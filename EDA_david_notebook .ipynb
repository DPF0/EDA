{
 "cells": [
  {
   "cell_type": "markdown",
   "metadata": {},
   "source": [
    "# Tema: ¿Es posible ahorrar en calefacción (o aire acondicionado)?\n",
    "\n",
    "## Premisas:  \n",
    "    • El sistema HVAC es eléctrico  \n",
    "    • Tenemos tarifa eléctrica con discriminación horaria  \n",
    "    • Queremos la temperatura de consigna en un horario determinado (no de forma continua)  \n",
    "\n",
    "La idea es usar la estancia que vamos a acondicionar como una ‘batería térmica’, calentándola (o enfriándola) a las horas en que resulte más barata la energía consumida, excediendo la temperatura de consigna si es necesario.\n",
    "El sistema será tanto más eficaz cuanto mayor sea la diferencia de precio entre las distintas horas, y cuanto mejor aislada esté la estancia.\n",
    "Conviene tener en cuenta que la energía consumida aumentará, se trata de minimizar el coste, no el consumo.\n",
    "\n",
    "Este es un estudio preliminar para, posteriormente, generar un modelo de machine learning que indique la forma más barata de acondicionar el local."
   ]
  },
  {
   "cell_type": "code",
   "execution_count": 1,
   "metadata": {},
   "outputs": [],
   "source": [
    "import pandas as pd\n",
    "import datetime as dt\n",
    "import seaborn as sns\n",
    "import matplotlib.pyplot as plt"
   ]
  },
  {
   "cell_type": "markdown",
   "metadata": {},
   "source": [
    "## Obtención de datos  \n",
    "Para realizar este EDA cuento con datos obtenidos durante un año en una estancia que, durante el período de estudio, se ha calentado únicamente por medio de una bomba de calor con un COP entre 3.0 y 3.5.  \n",
    "Los datos se ha recogido por medio de la aplicación Home Assistant, y se han almacenado en una base de datos InfluxDB, de dónde se han extraído a un csv por medio de las consultas pertinentes."
   ]
  },
  {
   "cell_type": "code",
   "execution_count": 2,
   "metadata": {},
   "outputs": [],
   "source": [
    "todo = pd.read_csv('./Everything for a year 01.csv')"
   ]
  },
  {
   "cell_type": "code",
   "execution_count": 3,
   "metadata": {},
   "outputs": [
    {
     "name": "stdout",
     "output_type": "stream",
     "text": [
      "<class 'pandas.core.frame.DataFrame'>\n",
      "RangeIndex: 105120 entries, 0 to 105119\n",
      "Data columns (total 6 columns):\n",
      " #   Column            Non-Null Count   Dtype  \n",
      "---  ------            --------------   -----  \n",
      " 0   time              105120 non-null  object \n",
      " 1   kWh.mean_value    15396 non-null   float64\n",
      " 2   kWh.mean_value_2  35357 non-null   float64\n",
      " 3   °C.mean_value     8478 non-null    float64\n",
      " 4   °C.mean_value_2   27898 non-null   float64\n",
      " 5   €/kWh.mean_value  9235 non-null    float64\n",
      "dtypes: float64(5), object(1)\n",
      "memory usage: 4.8+ MB\n"
     ]
    }
   ],
   "source": [
    "# Vistazo preliminar a los datos\n",
    "todo.info()"
   ]
  },
  {
   "cell_type": "code",
   "execution_count": 4,
   "metadata": {},
   "outputs": [
    {
     "data": {
      "text/html": [
       "<div>\n",
       "<style scoped>\n",
       "    .dataframe tbody tr th:only-of-type {\n",
       "        vertical-align: middle;\n",
       "    }\n",
       "\n",
       "    .dataframe tbody tr th {\n",
       "        vertical-align: top;\n",
       "    }\n",
       "\n",
       "    .dataframe thead th {\n",
       "        text-align: right;\n",
       "    }\n",
       "</style>\n",
       "<table border=\"1\" class=\"dataframe\">\n",
       "  <thead>\n",
       "    <tr style=\"text-align: right;\">\n",
       "      <th></th>\n",
       "      <th>time</th>\n",
       "      <th>kWh.mean_value</th>\n",
       "      <th>kWh.mean_value_2</th>\n",
       "      <th>°C.mean_value</th>\n",
       "      <th>°C.mean_value_2</th>\n",
       "      <th>€/kWh.mean_value</th>\n",
       "    </tr>\n",
       "  </thead>\n",
       "  <tbody>\n",
       "    <tr>\n",
       "      <th>0</th>\n",
       "      <td>2022-10-15T00:00:00.000+02:00</td>\n",
       "      <td>NaN</td>\n",
       "      <td>NaN</td>\n",
       "      <td>NaN</td>\n",
       "      <td>23.7</td>\n",
       "      <td>0.24978</td>\n",
       "    </tr>\n",
       "    <tr>\n",
       "      <th>1</th>\n",
       "      <td>2022-10-15T00:05:00.000+02:00</td>\n",
       "      <td>NaN</td>\n",
       "      <td>NaN</td>\n",
       "      <td>NaN</td>\n",
       "      <td>NaN</td>\n",
       "      <td>NaN</td>\n",
       "    </tr>\n",
       "    <tr>\n",
       "      <th>2</th>\n",
       "      <td>2022-10-15T00:10:00.000+02:00</td>\n",
       "      <td>NaN</td>\n",
       "      <td>NaN</td>\n",
       "      <td>NaN</td>\n",
       "      <td>NaN</td>\n",
       "      <td>NaN</td>\n",
       "    </tr>\n",
       "    <tr>\n",
       "      <th>3</th>\n",
       "      <td>2022-10-15T00:15:00.000+02:00</td>\n",
       "      <td>NaN</td>\n",
       "      <td>NaN</td>\n",
       "      <td>NaN</td>\n",
       "      <td>23.8</td>\n",
       "      <td>NaN</td>\n",
       "    </tr>\n",
       "    <tr>\n",
       "      <th>4</th>\n",
       "      <td>2022-10-15T00:20:00.000+02:00</td>\n",
       "      <td>NaN</td>\n",
       "      <td>NaN</td>\n",
       "      <td>NaN</td>\n",
       "      <td>NaN</td>\n",
       "      <td>NaN</td>\n",
       "    </tr>\n",
       "    <tr>\n",
       "      <th>5</th>\n",
       "      <td>2022-10-15T00:25:00.000+02:00</td>\n",
       "      <td>NaN</td>\n",
       "      <td>NaN</td>\n",
       "      <td>18.6</td>\n",
       "      <td>NaN</td>\n",
       "      <td>NaN</td>\n",
       "    </tr>\n",
       "    <tr>\n",
       "      <th>6</th>\n",
       "      <td>2022-10-15T00:30:00.000+02:00</td>\n",
       "      <td>NaN</td>\n",
       "      <td>NaN</td>\n",
       "      <td>NaN</td>\n",
       "      <td>23.7</td>\n",
       "      <td>NaN</td>\n",
       "    </tr>\n",
       "    <tr>\n",
       "      <th>7</th>\n",
       "      <td>2022-10-15T00:35:00.000+02:00</td>\n",
       "      <td>NaN</td>\n",
       "      <td>NaN</td>\n",
       "      <td>NaN</td>\n",
       "      <td>NaN</td>\n",
       "      <td>NaN</td>\n",
       "    </tr>\n",
       "    <tr>\n",
       "      <th>8</th>\n",
       "      <td>2022-10-15T00:40:00.000+02:00</td>\n",
       "      <td>NaN</td>\n",
       "      <td>NaN</td>\n",
       "      <td>NaN</td>\n",
       "      <td>NaN</td>\n",
       "      <td>NaN</td>\n",
       "    </tr>\n",
       "    <tr>\n",
       "      <th>9</th>\n",
       "      <td>2022-10-15T00:45:00.000+02:00</td>\n",
       "      <td>NaN</td>\n",
       "      <td>NaN</td>\n",
       "      <td>NaN</td>\n",
       "      <td>23.6</td>\n",
       "      <td>NaN</td>\n",
       "    </tr>\n",
       "  </tbody>\n",
       "</table>\n",
       "</div>"
      ],
      "text/plain": [
       "                            time  kWh.mean_value  kWh.mean_value_2  \\\n",
       "0  2022-10-15T00:00:00.000+02:00             NaN               NaN   \n",
       "1  2022-10-15T00:05:00.000+02:00             NaN               NaN   \n",
       "2  2022-10-15T00:10:00.000+02:00             NaN               NaN   \n",
       "3  2022-10-15T00:15:00.000+02:00             NaN               NaN   \n",
       "4  2022-10-15T00:20:00.000+02:00             NaN               NaN   \n",
       "5  2022-10-15T00:25:00.000+02:00             NaN               NaN   \n",
       "6  2022-10-15T00:30:00.000+02:00             NaN               NaN   \n",
       "7  2022-10-15T00:35:00.000+02:00             NaN               NaN   \n",
       "8  2022-10-15T00:40:00.000+02:00             NaN               NaN   \n",
       "9  2022-10-15T00:45:00.000+02:00             NaN               NaN   \n",
       "\n",
       "   °C.mean_value  °C.mean_value_2  €/kWh.mean_value  \n",
       "0            NaN             23.7           0.24978  \n",
       "1            NaN              NaN               NaN  \n",
       "2            NaN              NaN               NaN  \n",
       "3            NaN             23.8               NaN  \n",
       "4            NaN              NaN               NaN  \n",
       "5           18.6              NaN               NaN  \n",
       "6            NaN             23.7               NaN  \n",
       "7            NaN              NaN               NaN  \n",
       "8            NaN              NaN               NaN  \n",
       "9            NaN             23.6               NaN  "
      ]
     },
     "execution_count": 4,
     "metadata": {},
     "output_type": "execute_result"
    }
   ],
   "source": [
    "todo.head(10)"
   ]
  },
  {
   "cell_type": "markdown",
   "metadata": {},
   "source": [
    "### Significado de las columnas  \n",
    " - time contiene la información del momento en que se recogen los datos\n",
    " - kWh.mean_value y kWh.mean_value_2 representan el consumo del sistema de calefacción. Está dividido en dos columnas porque se ha recogido con dos sensores distintos, de forma sucesiva (el segundo sensor sustituyó al primero).  \n",
    " - °C.mean_value representa la temperatura exterior, recogida de la API de AEMET. Éste dato se recoge una vez por hora.\n",
    " - °C.mean_value_2 representa la temperatura interior, y se recoge con distintos períodos, o bien cada vez que cambia más de dos décimas de grado.\n",
    " - €/kWh.mean_value representa el precio de la electricidad, se recoge una vez por hora, y no cambia durante cada hora."
   ]
  },
  {
   "cell_type": "markdown",
   "metadata": {},
   "source": [
    "## Limpieza de datos  \n",
    "Podemos observar que hay gran cantidad de valores nulos, en todas las columnas.  \n",
    "Ésto se debe a la frecuencia de muestreo de los datos (5 min.), que es inferior a la de algunos de los datos (1 h., o frecuencias variables).  \n",
    "Podemos reemplazar estos valores nulos por otros válidos empleando técnicas diferentes según la columna de que se trate."
   ]
  },
  {
   "cell_type": "markdown",
   "metadata": {},
   "source": [
    "C mean value es la temperatura exterior ==> interpolar linealmente entre valores  \n",
    "C mean value 2 es la temperatura interior  \n",
    "€/kWh rellenar nulos con valor anterior"
   ]
  },
  {
   "cell_type": "markdown",
   "metadata": {},
   "source": [
    "La temperatura exterior se recoge una vez por hora, así que una aproximación válida sería interpolar linealmente entre valores existentes para reponer los faltantes."
   ]
  },
  {
   "cell_type": "code",
   "execution_count": 5,
   "metadata": {},
   "outputs": [],
   "source": [
    "todo['°C.mean_value'].interpolate(method='linear', limit_direction='forward', axis = 0, inplace=True)"
   ]
  },
  {
   "cell_type": "code",
   "execution_count": 6,
   "metadata": {},
   "outputs": [
    {
     "data": {
      "text/html": [
       "<div>\n",
       "<style scoped>\n",
       "    .dataframe tbody tr th:only-of-type {\n",
       "        vertical-align: middle;\n",
       "    }\n",
       "\n",
       "    .dataframe tbody tr th {\n",
       "        vertical-align: top;\n",
       "    }\n",
       "\n",
       "    .dataframe thead th {\n",
       "        text-align: right;\n",
       "    }\n",
       "</style>\n",
       "<table border=\"1\" class=\"dataframe\">\n",
       "  <thead>\n",
       "    <tr style=\"text-align: right;\">\n",
       "      <th></th>\n",
       "      <th>time</th>\n",
       "      <th>kWh.mean_value</th>\n",
       "      <th>kWh.mean_value_2</th>\n",
       "      <th>°C.mean_value</th>\n",
       "      <th>°C.mean_value_2</th>\n",
       "      <th>€/kWh.mean_value</th>\n",
       "    </tr>\n",
       "  </thead>\n",
       "  <tbody>\n",
       "    <tr>\n",
       "      <th>0</th>\n",
       "      <td>2022-10-15T00:00:00.000+02:00</td>\n",
       "      <td>NaN</td>\n",
       "      <td>NaN</td>\n",
       "      <td>NaN</td>\n",
       "      <td>23.7</td>\n",
       "      <td>0.24978</td>\n",
       "    </tr>\n",
       "    <tr>\n",
       "      <th>1</th>\n",
       "      <td>2022-10-15T00:05:00.000+02:00</td>\n",
       "      <td>NaN</td>\n",
       "      <td>NaN</td>\n",
       "      <td>NaN</td>\n",
       "      <td>NaN</td>\n",
       "      <td>NaN</td>\n",
       "    </tr>\n",
       "    <tr>\n",
       "      <th>2</th>\n",
       "      <td>2022-10-15T00:10:00.000+02:00</td>\n",
       "      <td>NaN</td>\n",
       "      <td>NaN</td>\n",
       "      <td>NaN</td>\n",
       "      <td>NaN</td>\n",
       "      <td>NaN</td>\n",
       "    </tr>\n",
       "    <tr>\n",
       "      <th>3</th>\n",
       "      <td>2022-10-15T00:15:00.000+02:00</td>\n",
       "      <td>NaN</td>\n",
       "      <td>NaN</td>\n",
       "      <td>NaN</td>\n",
       "      <td>23.8</td>\n",
       "      <td>NaN</td>\n",
       "    </tr>\n",
       "    <tr>\n",
       "      <th>4</th>\n",
       "      <td>2022-10-15T00:20:00.000+02:00</td>\n",
       "      <td>NaN</td>\n",
       "      <td>NaN</td>\n",
       "      <td>NaN</td>\n",
       "      <td>NaN</td>\n",
       "      <td>NaN</td>\n",
       "    </tr>\n",
       "    <tr>\n",
       "      <th>5</th>\n",
       "      <td>2022-10-15T00:25:00.000+02:00</td>\n",
       "      <td>NaN</td>\n",
       "      <td>NaN</td>\n",
       "      <td>18.600000</td>\n",
       "      <td>NaN</td>\n",
       "      <td>NaN</td>\n",
       "    </tr>\n",
       "    <tr>\n",
       "      <th>6</th>\n",
       "      <td>2022-10-15T00:30:00.000+02:00</td>\n",
       "      <td>NaN</td>\n",
       "      <td>NaN</td>\n",
       "      <td>18.483333</td>\n",
       "      <td>23.7</td>\n",
       "      <td>NaN</td>\n",
       "    </tr>\n",
       "    <tr>\n",
       "      <th>7</th>\n",
       "      <td>2022-10-15T00:35:00.000+02:00</td>\n",
       "      <td>NaN</td>\n",
       "      <td>NaN</td>\n",
       "      <td>18.366667</td>\n",
       "      <td>NaN</td>\n",
       "      <td>NaN</td>\n",
       "    </tr>\n",
       "    <tr>\n",
       "      <th>8</th>\n",
       "      <td>2022-10-15T00:40:00.000+02:00</td>\n",
       "      <td>NaN</td>\n",
       "      <td>NaN</td>\n",
       "      <td>18.250000</td>\n",
       "      <td>NaN</td>\n",
       "      <td>NaN</td>\n",
       "    </tr>\n",
       "    <tr>\n",
       "      <th>9</th>\n",
       "      <td>2022-10-15T00:45:00.000+02:00</td>\n",
       "      <td>NaN</td>\n",
       "      <td>NaN</td>\n",
       "      <td>18.133333</td>\n",
       "      <td>23.6</td>\n",
       "      <td>NaN</td>\n",
       "    </tr>\n",
       "  </tbody>\n",
       "</table>\n",
       "</div>"
      ],
      "text/plain": [
       "                            time  kWh.mean_value  kWh.mean_value_2  \\\n",
       "0  2022-10-15T00:00:00.000+02:00             NaN               NaN   \n",
       "1  2022-10-15T00:05:00.000+02:00             NaN               NaN   \n",
       "2  2022-10-15T00:10:00.000+02:00             NaN               NaN   \n",
       "3  2022-10-15T00:15:00.000+02:00             NaN               NaN   \n",
       "4  2022-10-15T00:20:00.000+02:00             NaN               NaN   \n",
       "5  2022-10-15T00:25:00.000+02:00             NaN               NaN   \n",
       "6  2022-10-15T00:30:00.000+02:00             NaN               NaN   \n",
       "7  2022-10-15T00:35:00.000+02:00             NaN               NaN   \n",
       "8  2022-10-15T00:40:00.000+02:00             NaN               NaN   \n",
       "9  2022-10-15T00:45:00.000+02:00             NaN               NaN   \n",
       "\n",
       "   °C.mean_value  °C.mean_value_2  €/kWh.mean_value  \n",
       "0            NaN             23.7           0.24978  \n",
       "1            NaN              NaN               NaN  \n",
       "2            NaN              NaN               NaN  \n",
       "3            NaN             23.8               NaN  \n",
       "4            NaN              NaN               NaN  \n",
       "5      18.600000              NaN               NaN  \n",
       "6      18.483333             23.7               NaN  \n",
       "7      18.366667              NaN               NaN  \n",
       "8      18.250000              NaN               NaN  \n",
       "9      18.133333             23.6               NaN  "
      ]
     },
     "execution_count": 6,
     "metadata": {},
     "output_type": "execute_result"
    }
   ],
   "source": [
    "todo.head(10)"
   ]
  },
  {
   "cell_type": "markdown",
   "metadata": {},
   "source": [
    "En la columna €/kWh.mean_value, podemos rellenar nulos con el valor anterior, dado que este dato sólo cambia una vez por hora."
   ]
  },
  {
   "cell_type": "code",
   "execution_count": 7,
   "metadata": {},
   "outputs": [],
   "source": [
    "todo['€/kWh.mean_value'].ffill(axis = 0, inplace= True)"
   ]
  },
  {
   "cell_type": "code",
   "execution_count": 8,
   "metadata": {},
   "outputs": [
    {
     "data": {
      "text/html": [
       "<div>\n",
       "<style scoped>\n",
       "    .dataframe tbody tr th:only-of-type {\n",
       "        vertical-align: middle;\n",
       "    }\n",
       "\n",
       "    .dataframe tbody tr th {\n",
       "        vertical-align: top;\n",
       "    }\n",
       "\n",
       "    .dataframe thead th {\n",
       "        text-align: right;\n",
       "    }\n",
       "</style>\n",
       "<table border=\"1\" class=\"dataframe\">\n",
       "  <thead>\n",
       "    <tr style=\"text-align: right;\">\n",
       "      <th></th>\n",
       "      <th>time</th>\n",
       "      <th>kWh.mean_value</th>\n",
       "      <th>kWh.mean_value_2</th>\n",
       "      <th>°C.mean_value</th>\n",
       "      <th>°C.mean_value_2</th>\n",
       "      <th>€/kWh.mean_value</th>\n",
       "    </tr>\n",
       "  </thead>\n",
       "  <tbody>\n",
       "    <tr>\n",
       "      <th>0</th>\n",
       "      <td>2022-10-15T00:00:00.000+02:00</td>\n",
       "      <td>NaN</td>\n",
       "      <td>NaN</td>\n",
       "      <td>NaN</td>\n",
       "      <td>23.7</td>\n",
       "      <td>0.24978</td>\n",
       "    </tr>\n",
       "    <tr>\n",
       "      <th>1</th>\n",
       "      <td>2022-10-15T00:05:00.000+02:00</td>\n",
       "      <td>NaN</td>\n",
       "      <td>NaN</td>\n",
       "      <td>NaN</td>\n",
       "      <td>NaN</td>\n",
       "      <td>0.24978</td>\n",
       "    </tr>\n",
       "    <tr>\n",
       "      <th>2</th>\n",
       "      <td>2022-10-15T00:10:00.000+02:00</td>\n",
       "      <td>NaN</td>\n",
       "      <td>NaN</td>\n",
       "      <td>NaN</td>\n",
       "      <td>NaN</td>\n",
       "      <td>0.24978</td>\n",
       "    </tr>\n",
       "    <tr>\n",
       "      <th>3</th>\n",
       "      <td>2022-10-15T00:15:00.000+02:00</td>\n",
       "      <td>NaN</td>\n",
       "      <td>NaN</td>\n",
       "      <td>NaN</td>\n",
       "      <td>23.8</td>\n",
       "      <td>0.24978</td>\n",
       "    </tr>\n",
       "    <tr>\n",
       "      <th>4</th>\n",
       "      <td>2022-10-15T00:20:00.000+02:00</td>\n",
       "      <td>NaN</td>\n",
       "      <td>NaN</td>\n",
       "      <td>NaN</td>\n",
       "      <td>NaN</td>\n",
       "      <td>0.24978</td>\n",
       "    </tr>\n",
       "    <tr>\n",
       "      <th>5</th>\n",
       "      <td>2022-10-15T00:25:00.000+02:00</td>\n",
       "      <td>NaN</td>\n",
       "      <td>NaN</td>\n",
       "      <td>18.600000</td>\n",
       "      <td>NaN</td>\n",
       "      <td>0.24978</td>\n",
       "    </tr>\n",
       "    <tr>\n",
       "      <th>6</th>\n",
       "      <td>2022-10-15T00:30:00.000+02:00</td>\n",
       "      <td>NaN</td>\n",
       "      <td>NaN</td>\n",
       "      <td>18.483333</td>\n",
       "      <td>23.7</td>\n",
       "      <td>0.24978</td>\n",
       "    </tr>\n",
       "    <tr>\n",
       "      <th>7</th>\n",
       "      <td>2022-10-15T00:35:00.000+02:00</td>\n",
       "      <td>NaN</td>\n",
       "      <td>NaN</td>\n",
       "      <td>18.366667</td>\n",
       "      <td>NaN</td>\n",
       "      <td>0.24978</td>\n",
       "    </tr>\n",
       "    <tr>\n",
       "      <th>8</th>\n",
       "      <td>2022-10-15T00:40:00.000+02:00</td>\n",
       "      <td>NaN</td>\n",
       "      <td>NaN</td>\n",
       "      <td>18.250000</td>\n",
       "      <td>NaN</td>\n",
       "      <td>0.24978</td>\n",
       "    </tr>\n",
       "    <tr>\n",
       "      <th>9</th>\n",
       "      <td>2022-10-15T00:45:00.000+02:00</td>\n",
       "      <td>NaN</td>\n",
       "      <td>NaN</td>\n",
       "      <td>18.133333</td>\n",
       "      <td>23.6</td>\n",
       "      <td>0.24978</td>\n",
       "    </tr>\n",
       "  </tbody>\n",
       "</table>\n",
       "</div>"
      ],
      "text/plain": [
       "                            time  kWh.mean_value  kWh.mean_value_2  \\\n",
       "0  2022-10-15T00:00:00.000+02:00             NaN               NaN   \n",
       "1  2022-10-15T00:05:00.000+02:00             NaN               NaN   \n",
       "2  2022-10-15T00:10:00.000+02:00             NaN               NaN   \n",
       "3  2022-10-15T00:15:00.000+02:00             NaN               NaN   \n",
       "4  2022-10-15T00:20:00.000+02:00             NaN               NaN   \n",
       "5  2022-10-15T00:25:00.000+02:00             NaN               NaN   \n",
       "6  2022-10-15T00:30:00.000+02:00             NaN               NaN   \n",
       "7  2022-10-15T00:35:00.000+02:00             NaN               NaN   \n",
       "8  2022-10-15T00:40:00.000+02:00             NaN               NaN   \n",
       "9  2022-10-15T00:45:00.000+02:00             NaN               NaN   \n",
       "\n",
       "   °C.mean_value  °C.mean_value_2  €/kWh.mean_value  \n",
       "0            NaN             23.7           0.24978  \n",
       "1            NaN              NaN           0.24978  \n",
       "2            NaN              NaN           0.24978  \n",
       "3            NaN             23.8           0.24978  \n",
       "4            NaN              NaN           0.24978  \n",
       "5      18.600000              NaN           0.24978  \n",
       "6      18.483333             23.7           0.24978  \n",
       "7      18.366667              NaN           0.24978  \n",
       "8      18.250000              NaN           0.24978  \n",
       "9      18.133333             23.6           0.24978  "
      ]
     },
     "execution_count": 8,
     "metadata": {},
     "output_type": "execute_result"
    }
   ],
   "source": [
    "todo.head(10)"
   ]
  },
  {
   "cell_type": "markdown",
   "metadata": {},
   "source": [
    "ºC_mean_value_2 es la temperatura interior, y los huecos representan momentos en que la temperatura no ha cambiado, y por tanto podemos sustituirlos por el valor anterior."
   ]
  },
  {
   "cell_type": "code",
   "execution_count": 9,
   "metadata": {},
   "outputs": [],
   "source": [
    "todo['°C.mean_value_2'].ffill(axis= 0, inplace= True)"
   ]
  },
  {
   "cell_type": "code",
   "execution_count": 10,
   "metadata": {},
   "outputs": [
    {
     "data": {
      "text/html": [
       "<div>\n",
       "<style scoped>\n",
       "    .dataframe tbody tr th:only-of-type {\n",
       "        vertical-align: middle;\n",
       "    }\n",
       "\n",
       "    .dataframe tbody tr th {\n",
       "        vertical-align: top;\n",
       "    }\n",
       "\n",
       "    .dataframe thead th {\n",
       "        text-align: right;\n",
       "    }\n",
       "</style>\n",
       "<table border=\"1\" class=\"dataframe\">\n",
       "  <thead>\n",
       "    <tr style=\"text-align: right;\">\n",
       "      <th></th>\n",
       "      <th>time</th>\n",
       "      <th>kWh.mean_value</th>\n",
       "      <th>kWh.mean_value_2</th>\n",
       "      <th>°C.mean_value</th>\n",
       "      <th>°C.mean_value_2</th>\n",
       "      <th>€/kWh.mean_value</th>\n",
       "    </tr>\n",
       "  </thead>\n",
       "  <tbody>\n",
       "    <tr>\n",
       "      <th>0</th>\n",
       "      <td>2022-10-15T00:00:00.000+02:00</td>\n",
       "      <td>NaN</td>\n",
       "      <td>NaN</td>\n",
       "      <td>NaN</td>\n",
       "      <td>23.7</td>\n",
       "      <td>0.24978</td>\n",
       "    </tr>\n",
       "    <tr>\n",
       "      <th>1</th>\n",
       "      <td>2022-10-15T00:05:00.000+02:00</td>\n",
       "      <td>NaN</td>\n",
       "      <td>NaN</td>\n",
       "      <td>NaN</td>\n",
       "      <td>23.7</td>\n",
       "      <td>0.24978</td>\n",
       "    </tr>\n",
       "    <tr>\n",
       "      <th>2</th>\n",
       "      <td>2022-10-15T00:10:00.000+02:00</td>\n",
       "      <td>NaN</td>\n",
       "      <td>NaN</td>\n",
       "      <td>NaN</td>\n",
       "      <td>23.7</td>\n",
       "      <td>0.24978</td>\n",
       "    </tr>\n",
       "    <tr>\n",
       "      <th>3</th>\n",
       "      <td>2022-10-15T00:15:00.000+02:00</td>\n",
       "      <td>NaN</td>\n",
       "      <td>NaN</td>\n",
       "      <td>NaN</td>\n",
       "      <td>23.8</td>\n",
       "      <td>0.24978</td>\n",
       "    </tr>\n",
       "    <tr>\n",
       "      <th>4</th>\n",
       "      <td>2022-10-15T00:20:00.000+02:00</td>\n",
       "      <td>NaN</td>\n",
       "      <td>NaN</td>\n",
       "      <td>NaN</td>\n",
       "      <td>23.8</td>\n",
       "      <td>0.24978</td>\n",
       "    </tr>\n",
       "    <tr>\n",
       "      <th>5</th>\n",
       "      <td>2022-10-15T00:25:00.000+02:00</td>\n",
       "      <td>NaN</td>\n",
       "      <td>NaN</td>\n",
       "      <td>18.600000</td>\n",
       "      <td>23.8</td>\n",
       "      <td>0.24978</td>\n",
       "    </tr>\n",
       "    <tr>\n",
       "      <th>6</th>\n",
       "      <td>2022-10-15T00:30:00.000+02:00</td>\n",
       "      <td>NaN</td>\n",
       "      <td>NaN</td>\n",
       "      <td>18.483333</td>\n",
       "      <td>23.7</td>\n",
       "      <td>0.24978</td>\n",
       "    </tr>\n",
       "    <tr>\n",
       "      <th>7</th>\n",
       "      <td>2022-10-15T00:35:00.000+02:00</td>\n",
       "      <td>NaN</td>\n",
       "      <td>NaN</td>\n",
       "      <td>18.366667</td>\n",
       "      <td>23.7</td>\n",
       "      <td>0.24978</td>\n",
       "    </tr>\n",
       "    <tr>\n",
       "      <th>8</th>\n",
       "      <td>2022-10-15T00:40:00.000+02:00</td>\n",
       "      <td>NaN</td>\n",
       "      <td>NaN</td>\n",
       "      <td>18.250000</td>\n",
       "      <td>23.7</td>\n",
       "      <td>0.24978</td>\n",
       "    </tr>\n",
       "    <tr>\n",
       "      <th>9</th>\n",
       "      <td>2022-10-15T00:45:00.000+02:00</td>\n",
       "      <td>NaN</td>\n",
       "      <td>NaN</td>\n",
       "      <td>18.133333</td>\n",
       "      <td>23.6</td>\n",
       "      <td>0.24978</td>\n",
       "    </tr>\n",
       "  </tbody>\n",
       "</table>\n",
       "</div>"
      ],
      "text/plain": [
       "                            time  kWh.mean_value  kWh.mean_value_2  \\\n",
       "0  2022-10-15T00:00:00.000+02:00             NaN               NaN   \n",
       "1  2022-10-15T00:05:00.000+02:00             NaN               NaN   \n",
       "2  2022-10-15T00:10:00.000+02:00             NaN               NaN   \n",
       "3  2022-10-15T00:15:00.000+02:00             NaN               NaN   \n",
       "4  2022-10-15T00:20:00.000+02:00             NaN               NaN   \n",
       "5  2022-10-15T00:25:00.000+02:00             NaN               NaN   \n",
       "6  2022-10-15T00:30:00.000+02:00             NaN               NaN   \n",
       "7  2022-10-15T00:35:00.000+02:00             NaN               NaN   \n",
       "8  2022-10-15T00:40:00.000+02:00             NaN               NaN   \n",
       "9  2022-10-15T00:45:00.000+02:00             NaN               NaN   \n",
       "\n",
       "   °C.mean_value  °C.mean_value_2  €/kWh.mean_value  \n",
       "0            NaN             23.7           0.24978  \n",
       "1            NaN             23.7           0.24978  \n",
       "2            NaN             23.7           0.24978  \n",
       "3            NaN             23.8           0.24978  \n",
       "4            NaN             23.8           0.24978  \n",
       "5      18.600000             23.8           0.24978  \n",
       "6      18.483333             23.7           0.24978  \n",
       "7      18.366667             23.7           0.24978  \n",
       "8      18.250000             23.7           0.24978  \n",
       "9      18.133333             23.6           0.24978  "
      ]
     },
     "execution_count": 10,
     "metadata": {},
     "output_type": "execute_result"
    }
   ],
   "source": [
    "todo.head(10)"
   ]
  },
  {
   "cell_type": "code",
   "execution_count": 11,
   "metadata": {},
   "outputs": [
    {
     "name": "stdout",
     "output_type": "stream",
     "text": [
      "<class 'pandas.core.frame.DataFrame'>\n",
      "RangeIndex: 105120 entries, 0 to 105119\n",
      "Data columns (total 6 columns):\n",
      " #   Column            Non-Null Count   Dtype  \n",
      "---  ------            --------------   -----  \n",
      " 0   time              105120 non-null  object \n",
      " 1   kWh.mean_value    15396 non-null   float64\n",
      " 2   kWh.mean_value_2  35357 non-null   float64\n",
      " 3   °C.mean_value     105115 non-null  float64\n",
      " 4   °C.mean_value_2   105120 non-null  float64\n",
      " 5   €/kWh.mean_value  105120 non-null  float64\n",
      "dtypes: float64(5), object(1)\n",
      "memory usage: 4.8+ MB\n"
     ]
    }
   ],
   "source": [
    "todo.info()"
   ]
  },
  {
   "cell_type": "markdown",
   "metadata": {},
   "source": [
    "La columna time no contiene valores nulos, pero no está en el formato más útil. Podemos mejorarla pasándola a datetime, que luego nos permite hacer mejor búsqueda y filtrado."
   ]
  },
  {
   "cell_type": "code",
   "execution_count": 12,
   "metadata": {},
   "outputs": [],
   "source": [
    "todo['time'] = pd.to_datetime(todo['time'], format='%Y-%m-%dT%H:%M:%S.%f%z', utc= True)"
   ]
  },
  {
   "cell_type": "code",
   "execution_count": 13,
   "metadata": {},
   "outputs": [
    {
     "name": "stdout",
     "output_type": "stream",
     "text": [
      "<class 'pandas.core.frame.DataFrame'>\n",
      "RangeIndex: 105120 entries, 0 to 105119\n",
      "Data columns (total 6 columns):\n",
      " #   Column            Non-Null Count   Dtype              \n",
      "---  ------            --------------   -----              \n",
      " 0   time              105120 non-null  datetime64[ns, UTC]\n",
      " 1   kWh.mean_value    15396 non-null   float64            \n",
      " 2   kWh.mean_value_2  35357 non-null   float64            \n",
      " 3   °C.mean_value     105115 non-null  float64            \n",
      " 4   °C.mean_value_2   105120 non-null  float64            \n",
      " 5   €/kWh.mean_value  105120 non-null  float64            \n",
      "dtypes: datetime64[ns, UTC](1), float64(5)\n",
      "memory usage: 4.8 MB\n"
     ]
    }
   ],
   "source": [
    "todo.info()"
   ]
  },
  {
   "cell_type": "markdown",
   "metadata": {},
   "source": [
    "Para el análisis que queremos hacer no es necesario el dataset entero. Voy a seleccionar únicamente el mes de enero, pues contiene toda la información necesaria. Para ello voy a utilizar las posibilidades que brinda el tener la columna time en formato datatime. "
   ]
  },
  {
   "cell_type": "code",
   "execution_count": 14,
   "metadata": {},
   "outputs": [],
   "source": [
    "enero = todo.copy()[todo['time'].dt.month == 1]"
   ]
  },
  {
   "cell_type": "code",
   "execution_count": 15,
   "metadata": {},
   "outputs": [
    {
     "name": "stdout",
     "output_type": "stream",
     "text": [
      "<class 'pandas.core.frame.DataFrame'>\n",
      "Int64Index: 8928 entries, 22488 to 31415\n",
      "Data columns (total 6 columns):\n",
      " #   Column            Non-Null Count  Dtype              \n",
      "---  ------            --------------  -----              \n",
      " 0   time              8928 non-null   datetime64[ns, UTC]\n",
      " 1   kWh.mean_value    3667 non-null   float64            \n",
      " 2   kWh.mean_value_2  0 non-null      float64            \n",
      " 3   °C.mean_value     8928 non-null   float64            \n",
      " 4   °C.mean_value_2   8928 non-null   float64            \n",
      " 5   €/kWh.mean_value  8928 non-null   float64            \n",
      "dtypes: datetime64[ns, UTC](1), float64(5)\n",
      "memory usage: 488.2 KB\n"
     ]
    }
   ],
   "source": [
    "enero.info()"
   ]
  },
  {
   "cell_type": "markdown",
   "metadata": {},
   "source": [
    "Durante este período todos los datos de consumo están recogidos en el primer sensor, así que podemos prescindir de la columna kWh.mean_value_2."
   ]
  },
  {
   "cell_type": "code",
   "execution_count": 16,
   "metadata": {},
   "outputs": [],
   "source": [
    "enero.drop(columns= ['kWh.mean_value_2'], axis= 1, inplace= True)"
   ]
  },
  {
   "cell_type": "markdown",
   "metadata": {},
   "source": [
    "En la columna de consumo (kWh.mean_value) hay algunos valores nulos, que podemos completar con interpolación lineal, dado que esta columna es siempre incremental."
   ]
  },
  {
   "cell_type": "code",
   "execution_count": 32,
   "metadata": {},
   "outputs": [
    {
     "data": {
      "text/html": [
       "<div>\n",
       "<style scoped>\n",
       "    .dataframe tbody tr th:only-of-type {\n",
       "        vertical-align: middle;\n",
       "    }\n",
       "\n",
       "    .dataframe tbody tr th {\n",
       "        vertical-align: top;\n",
       "    }\n",
       "\n",
       "    .dataframe thead th {\n",
       "        text-align: right;\n",
       "    }\n",
       "</style>\n",
       "<table border=\"1\" class=\"dataframe\">\n",
       "  <thead>\n",
       "    <tr style=\"text-align: right;\">\n",
       "      <th></th>\n",
       "      <th>time</th>\n",
       "      <th>kWh.mean_value</th>\n",
       "      <th>°C.mean_value</th>\n",
       "      <th>°C.mean_value_2</th>\n",
       "      <th>€/kWh.mean_value</th>\n",
       "      <th>consumo</th>\n",
       "      <th>delta_temp</th>\n",
       "      <th>gradiente_interior</th>\n",
       "      <th>hora</th>\n",
       "    </tr>\n",
       "  </thead>\n",
       "  <tbody>\n",
       "    <tr>\n",
       "      <th>22488</th>\n",
       "      <td>2023-01-01 00:00:00+00:00</td>\n",
       "      <td>NaN</td>\n",
       "      <td>20.850000</td>\n",
       "      <td>20.6</td>\n",
       "      <td>0.04301</td>\n",
       "      <td>NaN</td>\n",
       "      <td>-0.250000</td>\n",
       "      <td>NaN</td>\n",
       "      <td>0</td>\n",
       "    </tr>\n",
       "    <tr>\n",
       "      <th>22489</th>\n",
       "      <td>2023-01-01 00:05:00+00:00</td>\n",
       "      <td>NaN</td>\n",
       "      <td>20.825000</td>\n",
       "      <td>20.4</td>\n",
       "      <td>0.04301</td>\n",
       "      <td>NaN</td>\n",
       "      <td>-0.425000</td>\n",
       "      <td>-0.2</td>\n",
       "      <td>0</td>\n",
       "    </tr>\n",
       "    <tr>\n",
       "      <th>22490</th>\n",
       "      <td>2023-01-01 00:10:00+00:00</td>\n",
       "      <td>NaN</td>\n",
       "      <td>20.800000</td>\n",
       "      <td>20.4</td>\n",
       "      <td>0.04301</td>\n",
       "      <td>NaN</td>\n",
       "      <td>-0.400000</td>\n",
       "      <td>0.0</td>\n",
       "      <td>0</td>\n",
       "    </tr>\n",
       "    <tr>\n",
       "      <th>22491</th>\n",
       "      <td>2023-01-01 00:15:00+00:00</td>\n",
       "      <td>NaN</td>\n",
       "      <td>20.775000</td>\n",
       "      <td>20.4</td>\n",
       "      <td>0.04301</td>\n",
       "      <td>NaN</td>\n",
       "      <td>-0.375000</td>\n",
       "      <td>0.0</td>\n",
       "      <td>0</td>\n",
       "    </tr>\n",
       "    <tr>\n",
       "      <th>22492</th>\n",
       "      <td>2023-01-01 00:20:00+00:00</td>\n",
       "      <td>758.31</td>\n",
       "      <td>20.750000</td>\n",
       "      <td>20.3</td>\n",
       "      <td>0.04301</td>\n",
       "      <td>NaN</td>\n",
       "      <td>-0.450000</td>\n",
       "      <td>-0.1</td>\n",
       "      <td>0</td>\n",
       "    </tr>\n",
       "    <tr>\n",
       "      <th>...</th>\n",
       "      <td>...</td>\n",
       "      <td>...</td>\n",
       "      <td>...</td>\n",
       "      <td>...</td>\n",
       "      <td>...</td>\n",
       "      <td>...</td>\n",
       "      <td>...</td>\n",
       "      <td>...</td>\n",
       "      <td>...</td>\n",
       "    </tr>\n",
       "    <tr>\n",
       "      <th>31411</th>\n",
       "      <td>2023-01-31 23:35:00+00:00</td>\n",
       "      <td>911.90</td>\n",
       "      <td>8.183333</td>\n",
       "      <td>19.4</td>\n",
       "      <td>0.17975</td>\n",
       "      <td>0.0</td>\n",
       "      <td>11.216667</td>\n",
       "      <td>0.0</td>\n",
       "      <td>23</td>\n",
       "    </tr>\n",
       "    <tr>\n",
       "      <th>31412</th>\n",
       "      <td>2023-01-31 23:40:00+00:00</td>\n",
       "      <td>911.90</td>\n",
       "      <td>8.175000</td>\n",
       "      <td>19.4</td>\n",
       "      <td>0.17975</td>\n",
       "      <td>0.0</td>\n",
       "      <td>11.225000</td>\n",
       "      <td>0.0</td>\n",
       "      <td>23</td>\n",
       "    </tr>\n",
       "    <tr>\n",
       "      <th>31413</th>\n",
       "      <td>2023-01-31 23:45:00+00:00</td>\n",
       "      <td>911.90</td>\n",
       "      <td>8.166667</td>\n",
       "      <td>19.1</td>\n",
       "      <td>0.17975</td>\n",
       "      <td>0.0</td>\n",
       "      <td>10.933333</td>\n",
       "      <td>-0.3</td>\n",
       "      <td>23</td>\n",
       "    </tr>\n",
       "    <tr>\n",
       "      <th>31414</th>\n",
       "      <td>2023-01-31 23:50:00+00:00</td>\n",
       "      <td>911.90</td>\n",
       "      <td>8.158333</td>\n",
       "      <td>19.1</td>\n",
       "      <td>0.17975</td>\n",
       "      <td>0.0</td>\n",
       "      <td>10.941667</td>\n",
       "      <td>0.0</td>\n",
       "      <td>23</td>\n",
       "    </tr>\n",
       "    <tr>\n",
       "      <th>31415</th>\n",
       "      <td>2023-01-31 23:55:00+00:00</td>\n",
       "      <td>911.90</td>\n",
       "      <td>8.150000</td>\n",
       "      <td>19.1</td>\n",
       "      <td>0.17975</td>\n",
       "      <td>0.0</td>\n",
       "      <td>10.950000</td>\n",
       "      <td>0.0</td>\n",
       "      <td>23</td>\n",
       "    </tr>\n",
       "  </tbody>\n",
       "</table>\n",
       "<p>8928 rows × 9 columns</p>\n",
       "</div>"
      ],
      "text/plain": [
       "                           time  kWh.mean_value  °C.mean_value  \\\n",
       "22488 2023-01-01 00:00:00+00:00             NaN      20.850000   \n",
       "22489 2023-01-01 00:05:00+00:00             NaN      20.825000   \n",
       "22490 2023-01-01 00:10:00+00:00             NaN      20.800000   \n",
       "22491 2023-01-01 00:15:00+00:00             NaN      20.775000   \n",
       "22492 2023-01-01 00:20:00+00:00          758.31      20.750000   \n",
       "...                         ...             ...            ...   \n",
       "31411 2023-01-31 23:35:00+00:00          911.90       8.183333   \n",
       "31412 2023-01-31 23:40:00+00:00          911.90       8.175000   \n",
       "31413 2023-01-31 23:45:00+00:00          911.90       8.166667   \n",
       "31414 2023-01-31 23:50:00+00:00          911.90       8.158333   \n",
       "31415 2023-01-31 23:55:00+00:00          911.90       8.150000   \n",
       "\n",
       "       °C.mean_value_2  €/kWh.mean_value  consumo  delta_temp  \\\n",
       "22488             20.6           0.04301      NaN   -0.250000   \n",
       "22489             20.4           0.04301      NaN   -0.425000   \n",
       "22490             20.4           0.04301      NaN   -0.400000   \n",
       "22491             20.4           0.04301      NaN   -0.375000   \n",
       "22492             20.3           0.04301      NaN   -0.450000   \n",
       "...                ...               ...      ...         ...   \n",
       "31411             19.4           0.17975      0.0   11.216667   \n",
       "31412             19.4           0.17975      0.0   11.225000   \n",
       "31413             19.1           0.17975      0.0   10.933333   \n",
       "31414             19.1           0.17975      0.0   10.941667   \n",
       "31415             19.1           0.17975      0.0   10.950000   \n",
       "\n",
       "       gradiente_interior  hora  \n",
       "22488                 NaN     0  \n",
       "22489                -0.2     0  \n",
       "22490                 0.0     0  \n",
       "22491                 0.0     0  \n",
       "22492                -0.1     0  \n",
       "...                   ...   ...  \n",
       "31411                 0.0    23  \n",
       "31412                 0.0    23  \n",
       "31413                -0.3    23  \n",
       "31414                 0.0    23  \n",
       "31415                 0.0    23  \n",
       "\n",
       "[8928 rows x 9 columns]"
      ]
     },
     "execution_count": 32,
     "metadata": {},
     "output_type": "execute_result"
    }
   ],
   "source": [
    "enero['kWh.mean_value'].interpolate(method='linear', limit_direction='forward', axis = 0, inplace=True)\n",
    "\n",
    "enero"
   ]
  },
  {
   "cell_type": "markdown",
   "metadata": {},
   "source": [
    "Hay algunos datos que no aparecen en el dataset, pero pueden obtenerse a partir del mismo.  \n",
    "Uno de ellos es el consumo eléctrico, en kWh, en cada período, el cual puede obtenerse como diferencia entre dos valores consecutivos de kWh.mean_value."
   ]
  },
  {
   "cell_type": "code",
   "execution_count": 18,
   "metadata": {},
   "outputs": [
    {
     "data": {
      "text/html": [
       "<div>\n",
       "<style scoped>\n",
       "    .dataframe tbody tr th:only-of-type {\n",
       "        vertical-align: middle;\n",
       "    }\n",
       "\n",
       "    .dataframe tbody tr th {\n",
       "        vertical-align: top;\n",
       "    }\n",
       "\n",
       "    .dataframe thead th {\n",
       "        text-align: right;\n",
       "    }\n",
       "</style>\n",
       "<table border=\"1\" class=\"dataframe\">\n",
       "  <thead>\n",
       "    <tr style=\"text-align: right;\">\n",
       "      <th></th>\n",
       "      <th>time</th>\n",
       "      <th>kWh.mean_value</th>\n",
       "      <th>°C.mean_value</th>\n",
       "      <th>°C.mean_value_2</th>\n",
       "      <th>€/kWh.mean_value</th>\n",
       "      <th>consumo</th>\n",
       "    </tr>\n",
       "  </thead>\n",
       "  <tbody>\n",
       "    <tr>\n",
       "      <th>22488</th>\n",
       "      <td>2023-01-01 00:00:00+00:00</td>\n",
       "      <td>NaN</td>\n",
       "      <td>20.850000</td>\n",
       "      <td>20.6</td>\n",
       "      <td>0.04301</td>\n",
       "      <td>NaN</td>\n",
       "    </tr>\n",
       "    <tr>\n",
       "      <th>22489</th>\n",
       "      <td>2023-01-01 00:05:00+00:00</td>\n",
       "      <td>NaN</td>\n",
       "      <td>20.825000</td>\n",
       "      <td>20.4</td>\n",
       "      <td>0.04301</td>\n",
       "      <td>NaN</td>\n",
       "    </tr>\n",
       "    <tr>\n",
       "      <th>22490</th>\n",
       "      <td>2023-01-01 00:10:00+00:00</td>\n",
       "      <td>NaN</td>\n",
       "      <td>20.800000</td>\n",
       "      <td>20.4</td>\n",
       "      <td>0.04301</td>\n",
       "      <td>NaN</td>\n",
       "    </tr>\n",
       "    <tr>\n",
       "      <th>22491</th>\n",
       "      <td>2023-01-01 00:15:00+00:00</td>\n",
       "      <td>NaN</td>\n",
       "      <td>20.775000</td>\n",
       "      <td>20.4</td>\n",
       "      <td>0.04301</td>\n",
       "      <td>NaN</td>\n",
       "    </tr>\n",
       "    <tr>\n",
       "      <th>22492</th>\n",
       "      <td>2023-01-01 00:20:00+00:00</td>\n",
       "      <td>758.31</td>\n",
       "      <td>20.750000</td>\n",
       "      <td>20.3</td>\n",
       "      <td>0.04301</td>\n",
       "      <td>NaN</td>\n",
       "    </tr>\n",
       "    <tr>\n",
       "      <th>22493</th>\n",
       "      <td>2023-01-01 00:25:00+00:00</td>\n",
       "      <td>758.31</td>\n",
       "      <td>20.725000</td>\n",
       "      <td>20.3</td>\n",
       "      <td>0.04301</td>\n",
       "      <td>0.0</td>\n",
       "    </tr>\n",
       "    <tr>\n",
       "      <th>22494</th>\n",
       "      <td>2023-01-01 00:30:00+00:00</td>\n",
       "      <td>758.31</td>\n",
       "      <td>20.700000</td>\n",
       "      <td>20.3</td>\n",
       "      <td>0.04301</td>\n",
       "      <td>0.0</td>\n",
       "    </tr>\n",
       "    <tr>\n",
       "      <th>22495</th>\n",
       "      <td>2023-01-01 00:35:00+00:00</td>\n",
       "      <td>758.31</td>\n",
       "      <td>20.666667</td>\n",
       "      <td>20.2</td>\n",
       "      <td>0.04301</td>\n",
       "      <td>0.0</td>\n",
       "    </tr>\n",
       "    <tr>\n",
       "      <th>22496</th>\n",
       "      <td>2023-01-01 00:40:00+00:00</td>\n",
       "      <td>758.31</td>\n",
       "      <td>20.633333</td>\n",
       "      <td>20.2</td>\n",
       "      <td>0.04301</td>\n",
       "      <td>0.0</td>\n",
       "    </tr>\n",
       "    <tr>\n",
       "      <th>22497</th>\n",
       "      <td>2023-01-01 00:45:00+00:00</td>\n",
       "      <td>758.31</td>\n",
       "      <td>20.600000</td>\n",
       "      <td>20.2</td>\n",
       "      <td>0.04301</td>\n",
       "      <td>0.0</td>\n",
       "    </tr>\n",
       "  </tbody>\n",
       "</table>\n",
       "</div>"
      ],
      "text/plain": [
       "                           time  kWh.mean_value  °C.mean_value  \\\n",
       "22488 2023-01-01 00:00:00+00:00             NaN      20.850000   \n",
       "22489 2023-01-01 00:05:00+00:00             NaN      20.825000   \n",
       "22490 2023-01-01 00:10:00+00:00             NaN      20.800000   \n",
       "22491 2023-01-01 00:15:00+00:00             NaN      20.775000   \n",
       "22492 2023-01-01 00:20:00+00:00          758.31      20.750000   \n",
       "22493 2023-01-01 00:25:00+00:00          758.31      20.725000   \n",
       "22494 2023-01-01 00:30:00+00:00          758.31      20.700000   \n",
       "22495 2023-01-01 00:35:00+00:00          758.31      20.666667   \n",
       "22496 2023-01-01 00:40:00+00:00          758.31      20.633333   \n",
       "22497 2023-01-01 00:45:00+00:00          758.31      20.600000   \n",
       "\n",
       "       °C.mean_value_2  €/kWh.mean_value  consumo  \n",
       "22488             20.6           0.04301      NaN  \n",
       "22489             20.4           0.04301      NaN  \n",
       "22490             20.4           0.04301      NaN  \n",
       "22491             20.4           0.04301      NaN  \n",
       "22492             20.3           0.04301      NaN  \n",
       "22493             20.3           0.04301      0.0  \n",
       "22494             20.3           0.04301      0.0  \n",
       "22495             20.2           0.04301      0.0  \n",
       "22496             20.2           0.04301      0.0  \n",
       "22497             20.2           0.04301      0.0  "
      ]
     },
     "execution_count": 18,
     "metadata": {},
     "output_type": "execute_result"
    }
   ],
   "source": [
    "enero['consumo'] = enero['kWh.mean_value'].diff()\n",
    "\n",
    "enero.head(10)"
   ]
  },
  {
   "cell_type": "markdown",
   "metadata": {},
   "source": [
    "Otro valor útil es la diferencia de temperatura entre el interior y el exterior, que llamaremos delta_temp."
   ]
  },
  {
   "cell_type": "code",
   "execution_count": 19,
   "metadata": {},
   "outputs": [
    {
     "data": {
      "text/html": [
       "<div>\n",
       "<style scoped>\n",
       "    .dataframe tbody tr th:only-of-type {\n",
       "        vertical-align: middle;\n",
       "    }\n",
       "\n",
       "    .dataframe tbody tr th {\n",
       "        vertical-align: top;\n",
       "    }\n",
       "\n",
       "    .dataframe thead th {\n",
       "        text-align: right;\n",
       "    }\n",
       "</style>\n",
       "<table border=\"1\" class=\"dataframe\">\n",
       "  <thead>\n",
       "    <tr style=\"text-align: right;\">\n",
       "      <th></th>\n",
       "      <th>time</th>\n",
       "      <th>kWh.mean_value</th>\n",
       "      <th>°C.mean_value</th>\n",
       "      <th>°C.mean_value_2</th>\n",
       "      <th>€/kWh.mean_value</th>\n",
       "      <th>consumo</th>\n",
       "      <th>delta_temp</th>\n",
       "    </tr>\n",
       "  </thead>\n",
       "  <tbody>\n",
       "    <tr>\n",
       "      <th>22488</th>\n",
       "      <td>2023-01-01 00:00:00+00:00</td>\n",
       "      <td>NaN</td>\n",
       "      <td>20.850000</td>\n",
       "      <td>20.6</td>\n",
       "      <td>0.04301</td>\n",
       "      <td>NaN</td>\n",
       "      <td>-0.250000</td>\n",
       "    </tr>\n",
       "    <tr>\n",
       "      <th>22489</th>\n",
       "      <td>2023-01-01 00:05:00+00:00</td>\n",
       "      <td>NaN</td>\n",
       "      <td>20.825000</td>\n",
       "      <td>20.4</td>\n",
       "      <td>0.04301</td>\n",
       "      <td>NaN</td>\n",
       "      <td>-0.425000</td>\n",
       "    </tr>\n",
       "    <tr>\n",
       "      <th>22490</th>\n",
       "      <td>2023-01-01 00:10:00+00:00</td>\n",
       "      <td>NaN</td>\n",
       "      <td>20.800000</td>\n",
       "      <td>20.4</td>\n",
       "      <td>0.04301</td>\n",
       "      <td>NaN</td>\n",
       "      <td>-0.400000</td>\n",
       "    </tr>\n",
       "    <tr>\n",
       "      <th>22491</th>\n",
       "      <td>2023-01-01 00:15:00+00:00</td>\n",
       "      <td>NaN</td>\n",
       "      <td>20.775000</td>\n",
       "      <td>20.4</td>\n",
       "      <td>0.04301</td>\n",
       "      <td>NaN</td>\n",
       "      <td>-0.375000</td>\n",
       "    </tr>\n",
       "    <tr>\n",
       "      <th>22492</th>\n",
       "      <td>2023-01-01 00:20:00+00:00</td>\n",
       "      <td>758.31</td>\n",
       "      <td>20.750000</td>\n",
       "      <td>20.3</td>\n",
       "      <td>0.04301</td>\n",
       "      <td>NaN</td>\n",
       "      <td>-0.450000</td>\n",
       "    </tr>\n",
       "    <tr>\n",
       "      <th>22493</th>\n",
       "      <td>2023-01-01 00:25:00+00:00</td>\n",
       "      <td>758.31</td>\n",
       "      <td>20.725000</td>\n",
       "      <td>20.3</td>\n",
       "      <td>0.04301</td>\n",
       "      <td>0.0</td>\n",
       "      <td>-0.425000</td>\n",
       "    </tr>\n",
       "    <tr>\n",
       "      <th>22494</th>\n",
       "      <td>2023-01-01 00:30:00+00:00</td>\n",
       "      <td>758.31</td>\n",
       "      <td>20.700000</td>\n",
       "      <td>20.3</td>\n",
       "      <td>0.04301</td>\n",
       "      <td>0.0</td>\n",
       "      <td>-0.400000</td>\n",
       "    </tr>\n",
       "    <tr>\n",
       "      <th>22495</th>\n",
       "      <td>2023-01-01 00:35:00+00:00</td>\n",
       "      <td>758.31</td>\n",
       "      <td>20.666667</td>\n",
       "      <td>20.2</td>\n",
       "      <td>0.04301</td>\n",
       "      <td>0.0</td>\n",
       "      <td>-0.466667</td>\n",
       "    </tr>\n",
       "    <tr>\n",
       "      <th>22496</th>\n",
       "      <td>2023-01-01 00:40:00+00:00</td>\n",
       "      <td>758.31</td>\n",
       "      <td>20.633333</td>\n",
       "      <td>20.2</td>\n",
       "      <td>0.04301</td>\n",
       "      <td>0.0</td>\n",
       "      <td>-0.433333</td>\n",
       "    </tr>\n",
       "    <tr>\n",
       "      <th>22497</th>\n",
       "      <td>2023-01-01 00:45:00+00:00</td>\n",
       "      <td>758.31</td>\n",
       "      <td>20.600000</td>\n",
       "      <td>20.2</td>\n",
       "      <td>0.04301</td>\n",
       "      <td>0.0</td>\n",
       "      <td>-0.400000</td>\n",
       "    </tr>\n",
       "  </tbody>\n",
       "</table>\n",
       "</div>"
      ],
      "text/plain": [
       "                           time  kWh.mean_value  °C.mean_value  \\\n",
       "22488 2023-01-01 00:00:00+00:00             NaN      20.850000   \n",
       "22489 2023-01-01 00:05:00+00:00             NaN      20.825000   \n",
       "22490 2023-01-01 00:10:00+00:00             NaN      20.800000   \n",
       "22491 2023-01-01 00:15:00+00:00             NaN      20.775000   \n",
       "22492 2023-01-01 00:20:00+00:00          758.31      20.750000   \n",
       "22493 2023-01-01 00:25:00+00:00          758.31      20.725000   \n",
       "22494 2023-01-01 00:30:00+00:00          758.31      20.700000   \n",
       "22495 2023-01-01 00:35:00+00:00          758.31      20.666667   \n",
       "22496 2023-01-01 00:40:00+00:00          758.31      20.633333   \n",
       "22497 2023-01-01 00:45:00+00:00          758.31      20.600000   \n",
       "\n",
       "       °C.mean_value_2  €/kWh.mean_value  consumo  delta_temp  \n",
       "22488             20.6           0.04301      NaN   -0.250000  \n",
       "22489             20.4           0.04301      NaN   -0.425000  \n",
       "22490             20.4           0.04301      NaN   -0.400000  \n",
       "22491             20.4           0.04301      NaN   -0.375000  \n",
       "22492             20.3           0.04301      NaN   -0.450000  \n",
       "22493             20.3           0.04301      0.0   -0.425000  \n",
       "22494             20.3           0.04301      0.0   -0.400000  \n",
       "22495             20.2           0.04301      0.0   -0.466667  \n",
       "22496             20.2           0.04301      0.0   -0.433333  \n",
       "22497             20.2           0.04301      0.0   -0.400000  "
      ]
     },
     "execution_count": 19,
     "metadata": {},
     "output_type": "execute_result"
    }
   ],
   "source": [
    "enero['delta_temp'] = enero['°C.mean_value_2'] - enero['°C.mean_value']\n",
    "\n",
    "enero.head(10)"
   ]
  },
  {
   "cell_type": "markdown",
   "metadata": {},
   "source": [
    "También es útil conocer la velocidad a la que cambia la temperatura interior, que denominaré gradiente_interior, y que es la diferencia entre valores consecutivos de °C.mean_value_2."
   ]
  },
  {
   "cell_type": "code",
   "execution_count": 20,
   "metadata": {},
   "outputs": [
    {
     "data": {
      "text/html": [
       "<div>\n",
       "<style scoped>\n",
       "    .dataframe tbody tr th:only-of-type {\n",
       "        vertical-align: middle;\n",
       "    }\n",
       "\n",
       "    .dataframe tbody tr th {\n",
       "        vertical-align: top;\n",
       "    }\n",
       "\n",
       "    .dataframe thead th {\n",
       "        text-align: right;\n",
       "    }\n",
       "</style>\n",
       "<table border=\"1\" class=\"dataframe\">\n",
       "  <thead>\n",
       "    <tr style=\"text-align: right;\">\n",
       "      <th></th>\n",
       "      <th>time</th>\n",
       "      <th>kWh.mean_value</th>\n",
       "      <th>°C.mean_value</th>\n",
       "      <th>°C.mean_value_2</th>\n",
       "      <th>€/kWh.mean_value</th>\n",
       "      <th>consumo</th>\n",
       "      <th>delta_temp</th>\n",
       "      <th>gradiente_interior</th>\n",
       "    </tr>\n",
       "  </thead>\n",
       "  <tbody>\n",
       "    <tr>\n",
       "      <th>22488</th>\n",
       "      <td>2023-01-01 00:00:00+00:00</td>\n",
       "      <td>NaN</td>\n",
       "      <td>20.850000</td>\n",
       "      <td>20.6</td>\n",
       "      <td>0.04301</td>\n",
       "      <td>NaN</td>\n",
       "      <td>-0.250000</td>\n",
       "      <td>NaN</td>\n",
       "    </tr>\n",
       "    <tr>\n",
       "      <th>22489</th>\n",
       "      <td>2023-01-01 00:05:00+00:00</td>\n",
       "      <td>NaN</td>\n",
       "      <td>20.825000</td>\n",
       "      <td>20.4</td>\n",
       "      <td>0.04301</td>\n",
       "      <td>NaN</td>\n",
       "      <td>-0.425000</td>\n",
       "      <td>-0.2</td>\n",
       "    </tr>\n",
       "    <tr>\n",
       "      <th>22490</th>\n",
       "      <td>2023-01-01 00:10:00+00:00</td>\n",
       "      <td>NaN</td>\n",
       "      <td>20.800000</td>\n",
       "      <td>20.4</td>\n",
       "      <td>0.04301</td>\n",
       "      <td>NaN</td>\n",
       "      <td>-0.400000</td>\n",
       "      <td>0.0</td>\n",
       "    </tr>\n",
       "    <tr>\n",
       "      <th>22491</th>\n",
       "      <td>2023-01-01 00:15:00+00:00</td>\n",
       "      <td>NaN</td>\n",
       "      <td>20.775000</td>\n",
       "      <td>20.4</td>\n",
       "      <td>0.04301</td>\n",
       "      <td>NaN</td>\n",
       "      <td>-0.375000</td>\n",
       "      <td>0.0</td>\n",
       "    </tr>\n",
       "    <tr>\n",
       "      <th>22492</th>\n",
       "      <td>2023-01-01 00:20:00+00:00</td>\n",
       "      <td>758.31</td>\n",
       "      <td>20.750000</td>\n",
       "      <td>20.3</td>\n",
       "      <td>0.04301</td>\n",
       "      <td>NaN</td>\n",
       "      <td>-0.450000</td>\n",
       "      <td>-0.1</td>\n",
       "    </tr>\n",
       "    <tr>\n",
       "      <th>22493</th>\n",
       "      <td>2023-01-01 00:25:00+00:00</td>\n",
       "      <td>758.31</td>\n",
       "      <td>20.725000</td>\n",
       "      <td>20.3</td>\n",
       "      <td>0.04301</td>\n",
       "      <td>0.0</td>\n",
       "      <td>-0.425000</td>\n",
       "      <td>0.0</td>\n",
       "    </tr>\n",
       "    <tr>\n",
       "      <th>22494</th>\n",
       "      <td>2023-01-01 00:30:00+00:00</td>\n",
       "      <td>758.31</td>\n",
       "      <td>20.700000</td>\n",
       "      <td>20.3</td>\n",
       "      <td>0.04301</td>\n",
       "      <td>0.0</td>\n",
       "      <td>-0.400000</td>\n",
       "      <td>0.0</td>\n",
       "    </tr>\n",
       "    <tr>\n",
       "      <th>22495</th>\n",
       "      <td>2023-01-01 00:35:00+00:00</td>\n",
       "      <td>758.31</td>\n",
       "      <td>20.666667</td>\n",
       "      <td>20.2</td>\n",
       "      <td>0.04301</td>\n",
       "      <td>0.0</td>\n",
       "      <td>-0.466667</td>\n",
       "      <td>-0.1</td>\n",
       "    </tr>\n",
       "    <tr>\n",
       "      <th>22496</th>\n",
       "      <td>2023-01-01 00:40:00+00:00</td>\n",
       "      <td>758.31</td>\n",
       "      <td>20.633333</td>\n",
       "      <td>20.2</td>\n",
       "      <td>0.04301</td>\n",
       "      <td>0.0</td>\n",
       "      <td>-0.433333</td>\n",
       "      <td>0.0</td>\n",
       "    </tr>\n",
       "    <tr>\n",
       "      <th>22497</th>\n",
       "      <td>2023-01-01 00:45:00+00:00</td>\n",
       "      <td>758.31</td>\n",
       "      <td>20.600000</td>\n",
       "      <td>20.2</td>\n",
       "      <td>0.04301</td>\n",
       "      <td>0.0</td>\n",
       "      <td>-0.400000</td>\n",
       "      <td>0.0</td>\n",
       "    </tr>\n",
       "  </tbody>\n",
       "</table>\n",
       "</div>"
      ],
      "text/plain": [
       "                           time  kWh.mean_value  °C.mean_value  \\\n",
       "22488 2023-01-01 00:00:00+00:00             NaN      20.850000   \n",
       "22489 2023-01-01 00:05:00+00:00             NaN      20.825000   \n",
       "22490 2023-01-01 00:10:00+00:00             NaN      20.800000   \n",
       "22491 2023-01-01 00:15:00+00:00             NaN      20.775000   \n",
       "22492 2023-01-01 00:20:00+00:00          758.31      20.750000   \n",
       "22493 2023-01-01 00:25:00+00:00          758.31      20.725000   \n",
       "22494 2023-01-01 00:30:00+00:00          758.31      20.700000   \n",
       "22495 2023-01-01 00:35:00+00:00          758.31      20.666667   \n",
       "22496 2023-01-01 00:40:00+00:00          758.31      20.633333   \n",
       "22497 2023-01-01 00:45:00+00:00          758.31      20.600000   \n",
       "\n",
       "       °C.mean_value_2  €/kWh.mean_value  consumo  delta_temp  \\\n",
       "22488             20.6           0.04301      NaN   -0.250000   \n",
       "22489             20.4           0.04301      NaN   -0.425000   \n",
       "22490             20.4           0.04301      NaN   -0.400000   \n",
       "22491             20.4           0.04301      NaN   -0.375000   \n",
       "22492             20.3           0.04301      NaN   -0.450000   \n",
       "22493             20.3           0.04301      0.0   -0.425000   \n",
       "22494             20.3           0.04301      0.0   -0.400000   \n",
       "22495             20.2           0.04301      0.0   -0.466667   \n",
       "22496             20.2           0.04301      0.0   -0.433333   \n",
       "22497             20.2           0.04301      0.0   -0.400000   \n",
       "\n",
       "       gradiente_interior  \n",
       "22488                 NaN  \n",
       "22489                -0.2  \n",
       "22490                 0.0  \n",
       "22491                 0.0  \n",
       "22492                -0.1  \n",
       "22493                 0.0  \n",
       "22494                 0.0  \n",
       "22495                -0.1  \n",
       "22496                 0.0  \n",
       "22497                 0.0  "
      ]
     },
     "execution_count": 20,
     "metadata": {},
     "output_type": "execute_result"
    }
   ],
   "source": [
    "enero['gradiente_interior'] = enero['°C.mean_value_2'].diff()\n",
    "\n",
    "enero.head(10)"
   ]
  },
  {
   "cell_type": "code",
   "execution_count": 21,
   "metadata": {},
   "outputs": [],
   "source": [
    "# enero['€'] = enero['consumo'] * enero['€/kWh.mean_value']\n",
    "\n",
    "# enero.head(10)"
   ]
  },
  {
   "cell_type": "code",
   "execution_count": 27,
   "metadata": {},
   "outputs": [],
   "source": [
    "enero['hora'] = enero['time'].dt.hour\n",
    "enero['minuto']"
   ]
  },
  {
   "cell_type": "code",
   "execution_count": 31,
   "metadata": {},
   "outputs": [],
   "source": [
    "# This is pretty much broken\n",
    "\n",
    "# for i in range(8):\n",
    "#     plt.plot(enero['°C.mean_value_2'][enero['time'].dt.day == i], enero['time'][enero['time'].dt.day == i].dt.time);"
   ]
  },
  {
   "cell_type": "code",
   "execution_count": 24,
   "metadata": {},
   "outputs": [
    {
     "data": {
      "image/png": "[encoded data removed]",
      "text/plain": [
       "<Figure size 640x480 with 1 Axes>"
      ]
     },
     "metadata": {},
     "output_type": "display_data"
    }
   ],
   "source": [
    "dia_deseado = 8\n",
    "dia_08 = enero.copy()[enero['time'].dt.day == dia_deseado]\n",
    "\n",
    "plt.plot(dia_08['time'], dia_08['delta_temp'])\n",
    "plt.plot(dia_08['time'], dia_08['°C.mean_value_2'])\n",
    "plt.plot(dia_08['time'], dia_08['consumo']*120);"
   ]
  },
  {
   "cell_type": "code",
   "execution_count": 25,
   "metadata": {},
   "outputs": [
    {
     "data": {
      "image/png": "[encoded data removed]",
      "text/plain": [
       "<Figure size 640x480 with 1 Axes>"
      ]
     },
     "metadata": {},
     "output_type": "display_data"
    }
   ],
   "source": [
    "dia_deseado = 9\n",
    "dia_09 = enero.copy()[enero['time'].dt.day == dia_deseado]\n",
    "\n",
    "plt.plot(dia_09['time'], dia_09['delta_temp'])\n",
    "plt.plot(dia_09['time'], dia_09['°C.mean_value_2'])\n",
    "plt.plot(dia_09['time'], dia_09['consumo']*100)\n",
    "plt.xticks(rotation = 90);"
   ]
  },
  {
   "cell_type": "code",
   "execution_count": 26,
   "metadata": {},
   "outputs": [],
   "source": [
    "dia_deseado = 10\n",
    "dia_10 = enero.copy()[enero['time'].dt.day == dia_deseado]"
   ]
  },
  {
   "cell_type": "code",
   "execution_count": 27,
   "metadata": {},
   "outputs": [
    {
     "data": {
      "image/png": "[encoded data removed]",
      "text/plain": [
       "<Figure size 640x480 with 1 Axes>"
      ]
     },
     "metadata": {},
     "output_type": "display_data"
    }
   ],
   "source": [
    "plt.plot(dia_10['time'], dia_10['delta_temp'])\n",
    "plt.plot(dia_10['time'], dia_10['°C.mean_value_2'])\n",
    "plt.plot(dia_10['time'], dia_10['consumo']*100)\n",
    "plt.xticks(rotation = 90);"
   ]
  },
  {
   "cell_type": "code",
   "execution_count": 28,
   "metadata": {},
   "outputs": [
    {
     "data": {
      "image/png": "[encoded data removed]",
      "text/plain": [
       "<Figure size 640x480 with 1 Axes>"
      ]
     },
     "metadata": {},
     "output_type": "display_data"
    }
   ],
   "source": [
    "dia_deseado = 11\n",
    "dia_11 = enero.copy()[enero['time'].dt.day == dia_deseado]\n",
    "\n",
    "plt.plot(dia_11['time'], dia_11['delta_temp'], color = 'red')\n",
    "plt.plot(dia_11['time'], dia_11['°C.mean_value_2'], color = 'blue')\n",
    "plt.plot(dia_11['time'], dia_11['consumo']*100)\n",
    "plt.xticks(rotation = 90);"
   ]
  },
  {
   "cell_type": "code",
   "execution_count": 29,
   "metadata": {},
   "outputs": [
    {
     "data": {
      "image/png": "[encoded data removed]",
      "text/plain": [
       "<Figure size 640x480 with 1 Axes>"
      ]
     },
     "metadata": {},
     "output_type": "display_data"
    }
   ],
   "source": [
    "\n",
    "plt.plot(dia_08['time'], dia_08['gradiente_interior']*12, color = 'red')\n",
    "plt.plot(dia_08['time'], dia_08['delta_temp'],color = 'blue')\n",
    "plt.plot(dia_08['time'], dia_08['consumo']*100)\n",
    "plt.xticks(rotation = 90);"
   ]
  },
  {
   "cell_type": "code",
   "execution_count": 30,
   "metadata": {},
   "outputs": [
    {
     "data": {
      "text/html": [
       "<div>\n",
       "<style scoped>\n",
       "    .dataframe tbody tr th:only-of-type {\n",
       "        vertical-align: middle;\n",
       "    }\n",
       "\n",
       "    .dataframe tbody tr th {\n",
       "        vertical-align: top;\n",
       "    }\n",
       "\n",
       "    .dataframe thead th {\n",
       "        text-align: right;\n",
       "    }\n",
       "</style>\n",
       "<table border=\"1\" class=\"dataframe\">\n",
       "  <thead>\n",
       "    <tr style=\"text-align: right;\">\n",
       "      <th></th>\n",
       "      <th>time</th>\n",
       "      <th>kWh.mean_value</th>\n",
       "      <th>°C.mean_value</th>\n",
       "      <th>°C.mean_value_2</th>\n",
       "      <th>€/kWh.mean_value</th>\n",
       "      <th>consumo</th>\n",
       "      <th>delta_temp</th>\n",
       "      <th>gradiente_interior</th>\n",
       "    </tr>\n",
       "  </thead>\n",
       "  <tbody>\n",
       "    <tr>\n",
       "      <th>22488</th>\n",
       "      <td>2023-01-01 00:00:00+00:00</td>\n",
       "      <td>NaN</td>\n",
       "      <td>20.850</td>\n",
       "      <td>20.6</td>\n",
       "      <td>0.04301</td>\n",
       "      <td>NaN</td>\n",
       "      <td>-0.250</td>\n",
       "      <td>NaN</td>\n",
       "    </tr>\n",
       "    <tr>\n",
       "      <th>22489</th>\n",
       "      <td>2023-01-01 00:05:00+00:00</td>\n",
       "      <td>NaN</td>\n",
       "      <td>20.825</td>\n",
       "      <td>20.4</td>\n",
       "      <td>0.04301</td>\n",
       "      <td>NaN</td>\n",
       "      <td>-0.425</td>\n",
       "      <td>-0.2</td>\n",
       "    </tr>\n",
       "    <tr>\n",
       "      <th>22490</th>\n",
       "      <td>2023-01-01 00:10:00+00:00</td>\n",
       "      <td>NaN</td>\n",
       "      <td>20.800</td>\n",
       "      <td>20.4</td>\n",
       "      <td>0.04301</td>\n",
       "      <td>NaN</td>\n",
       "      <td>-0.400</td>\n",
       "      <td>0.0</td>\n",
       "    </tr>\n",
       "    <tr>\n",
       "      <th>22491</th>\n",
       "      <td>2023-01-01 00:15:00+00:00</td>\n",
       "      <td>NaN</td>\n",
       "      <td>20.775</td>\n",
       "      <td>20.4</td>\n",
       "      <td>0.04301</td>\n",
       "      <td>NaN</td>\n",
       "      <td>-0.375</td>\n",
       "      <td>0.0</td>\n",
       "    </tr>\n",
       "    <tr>\n",
       "      <th>22492</th>\n",
       "      <td>2023-01-01 00:20:00+00:00</td>\n",
       "      <td>758.31</td>\n",
       "      <td>20.750</td>\n",
       "      <td>20.3</td>\n",
       "      <td>0.04301</td>\n",
       "      <td>NaN</td>\n",
       "      <td>-0.450</td>\n",
       "      <td>-0.1</td>\n",
       "    </tr>\n",
       "  </tbody>\n",
       "</table>\n",
       "</div>"
      ],
      "text/plain": [
       "                           time  kWh.mean_value  °C.mean_value  \\\n",
       "22488 2023-01-01 00:00:00+00:00             NaN         20.850   \n",
       "22489 2023-01-01 00:05:00+00:00             NaN         20.825   \n",
       "22490 2023-01-01 00:10:00+00:00             NaN         20.800   \n",
       "22491 2023-01-01 00:15:00+00:00             NaN         20.775   \n",
       "22492 2023-01-01 00:20:00+00:00          758.31         20.750   \n",
       "\n",
       "       °C.mean_value_2  €/kWh.mean_value  consumo  delta_temp  \\\n",
       "22488             20.6           0.04301      NaN      -0.250   \n",
       "22489             20.4           0.04301      NaN      -0.425   \n",
       "22490             20.4           0.04301      NaN      -0.400   \n",
       "22491             20.4           0.04301      NaN      -0.375   \n",
       "22492             20.3           0.04301      NaN      -0.450   \n",
       "\n",
       "       gradiente_interior  \n",
       "22488                 NaN  \n",
       "22489                -0.2  \n",
       "22490                 0.0  \n",
       "22491                 0.0  \n",
       "22492                -0.1  "
      ]
     },
     "execution_count": 30,
     "metadata": {},
     "output_type": "execute_result"
    }
   ],
   "source": [
    "enero_heat_off = enero.copy([enero['consumo'] == 0])\n",
    "\n",
    "enero_heat_off.head()"
   ]
  },
  {
   "cell_type": "code",
   "execution_count": 31,
   "metadata": {},
   "outputs": [
    {
     "name": "stdout",
     "output_type": "stream",
     "text": [
      "<class 'pandas.core.frame.DataFrame'>\n",
      "Int64Index: 8928 entries, 22488 to 31415\n",
      "Data columns (total 8 columns):\n",
      " #   Column              Non-Null Count  Dtype              \n",
      "---  ------              --------------  -----              \n",
      " 0   time                8928 non-null   datetime64[ns, UTC]\n",
      " 1   kWh.mean_value      8924 non-null   float64            \n",
      " 2   °C.mean_value       8928 non-null   float64            \n",
      " 3   °C.mean_value_2     8928 non-null   float64            \n",
      " 4   €/kWh.mean_value    8928 non-null   float64            \n",
      " 5   consumo             8923 non-null   float64            \n",
      " 6   delta_temp          8928 non-null   float64            \n",
      " 7   gradiente_interior  8927 non-null   float64            \n",
      "dtypes: datetime64[ns, UTC](1), float64(7)\n",
      "memory usage: 627.8 KB\n"
     ]
    }
   ],
   "source": [
    "enero_heat_off.info()"
   ]
  },
  {
   "cell_type": "code",
   "execution_count": 32,
   "metadata": {},
   "outputs": [
    {
     "data": {
      "image/png": "[encoded data removed]",
      "text/plain": [
       "<Figure size 640x480 with 1 Axes>"
      ]
     },
     "metadata": {},
     "output_type": "display_data"
    }
   ],
   "source": [
    "plt.plot(enero_heat_off['time'], enero_heat_off['gradiente_interior'])\n",
    "plt.xticks(rotation = 90);"
   ]
  },
  {
   "cell_type": "code",
   "execution_count": 33,
   "metadata": {},
   "outputs": [],
   "source": [
    "delta_large = enero_heat_off[(enero_heat_off['delta_temp'] > 10) & (enero_heat_off['time'].dt.hour >= 0) & (enero_heat_off['time'].dt.hour <= 7)]"
   ]
  },
  {
   "cell_type": "code",
   "execution_count": 34,
   "metadata": {},
   "outputs": [
    {
     "data": {
      "image/png": "[encoded data removed]",
      "text/plain": [
       "<Figure size 640x480 with 1 Axes>"
      ]
     },
     "metadata": {},
     "output_type": "display_data"
    }
   ],
   "source": [
    "plt.plot(delta_large['time'], delta_large['gradiente_interior'])\n",
    "plt.xticks(rotation = 90);"
   ]
  },
  {
   "cell_type": "code",
   "execution_count": 35,
   "metadata": {},
   "outputs": [
    {
     "data": {
      "text/plain": [
       "8.403337813620071"
      ]
     },
     "execution_count": 35,
     "metadata": {},
     "output_type": "execute_result"
    }
   ],
   "source": [
    "# Temp. exterior media en enero\n",
    "enero['°C.mean_value'].mean()"
   ]
  },
  {
   "cell_type": "code",
   "execution_count": 36,
   "metadata": {},
   "outputs": [
    {
     "data": {
      "text/plain": [
       "8.867495838641817"
      ]
     },
     "execution_count": 36,
     "metadata": {},
     "output_type": "execute_result"
    }
   ],
   "source": [
    "# Temp. exterior media en enero entre las 17 y las 00\n",
    "enero['°C.mean_value'][enero['time'].dt.hour > 14].mean()"
   ]
  },
  {
   "cell_type": "code",
   "execution_count": 37,
   "metadata": {},
   "outputs": [
    {
     "data": {
      "text/plain": [
       "-1.9993788819875777"
      ]
     },
     "execution_count": 37,
     "metadata": {},
     "output_type": "execute_result"
    }
   ],
   "source": [
    "# Velocidad, en ºC/h, a la que cambia la temp. interior, para delta > 10 y de noche\n",
    "# Éste debería ser el caso más desfavorable\n",
    "delta_large['gradiente_interior'][delta_large['gradiente_interior'] < 0].mean()* 12"
   ]
  },
  {
   "cell_type": "code",
   "execution_count": 38,
   "metadata": {},
   "outputs": [],
   "source": [
    "# Los días 9 y 10 hice ensayo para ver cuánto cuesta mantener temperatura\n",
    "# en el interior cuando la exterior es baja (delta > 10)\n",
    "caso_estudio = enero[(enero['time'].dt.day > 8) & (enero['time'].dt.day < 11)]"
   ]
  },
  {
   "cell_type": "code",
   "execution_count": 39,
   "metadata": {},
   "outputs": [
    {
     "data": {
      "image/png": "[encoded data removed]",
      "text/plain": [
       "<Figure size 640x480 with 1 Axes>"
      ]
     },
     "metadata": {},
     "output_type": "display_data"
    }
   ],
   "source": [
    "plt.plot(caso_estudio['time'], caso_estudio['delta_temp'], color = 'red')\n",
    "plt.plot(caso_estudio['time'], caso_estudio['°C.mean_value_2'], color = 'blue')\n",
    "plt.plot(caso_estudio['time'], caso_estudio['consumo']*100)\n",
    "plt.xticks(rotation = 90);"
   ]
  },
  {
   "cell_type": "code",
   "execution_count": 40,
   "metadata": {},
   "outputs": [],
   "source": [
    "# De este caso de estudio es interesante el período entre las 18 y las 6\n",
    "consumo_estable = caso_estudio[(caso_estudio['time'] >= '2023-01-09 18:00') & (caso_estudio['time'] <= '2023-01-10 06:00')]"
   ]
  },
  {
   "cell_type": "code",
   "execution_count": 41,
   "metadata": {},
   "outputs": [
    {
     "data": {
      "image/png": "[encoded data removed]",
      "text/plain": [
       "<Figure size 640x480 with 1 Axes>"
      ]
     },
     "metadata": {},
     "output_type": "display_data"
    }
   ],
   "source": [
    "plt.plot(consumo_estable['time'], consumo_estable['delta_temp'], color = 'red')\n",
    "plt.plot(consumo_estable['time'], consumo_estable['°C.mean_value_2'], color = 'blue')\n",
    "plt.plot(consumo_estable['time'], consumo_estable['consumo']*100)\n",
    "plt.xticks(rotation = 90);"
   ]
  },
  {
   "cell_type": "code",
   "execution_count": 42,
   "metadata": {},
   "outputs": [
    {
     "data": {
      "text/plain": [
       "20.5"
      ]
     },
     "execution_count": 42,
     "metadata": {},
     "output_type": "execute_result"
    }
   ],
   "source": [
    "# temperatura media de la estancia\n",
    "consumo_estable['°C.mean_value_2'].mean()"
   ]
  },
  {
   "cell_type": "code",
   "execution_count": 43,
   "metadata": {},
   "outputs": [
    {
     "data": {
      "text/plain": [
       "14.375603448275863"
      ]
     },
     "execution_count": 43,
     "metadata": {},
     "output_type": "execute_result"
    }
   ],
   "source": [
    "# diferencia media de temperatura con el exterior\n",
    "consumo_estable['delta_temp'].mean()"
   ]
  },
  {
   "cell_type": "code",
   "execution_count": 44,
   "metadata": {},
   "outputs": [
    {
     "data": {
      "text/plain": [
       "0.29379310344828147"
      ]
     },
     "execution_count": 44,
     "metadata": {},
     "output_type": "execute_result"
    }
   ],
   "source": [
    "# \n",
    "consumo_estable['consumo'].mean()*12"
   ]
  },
  {
   "cell_type": "code",
   "execution_count": 45,
   "metadata": {},
   "outputs": [],
   "source": [
    "precios_enero = {}\n",
    "for i in range(24):\n",
    "    precios_enero[i] = enero['€/kWh.mean_value'][enero['time'].dt.hour == i].mean()\n",
    "precios_enero_df = pd.DataFrame.from_dict(precios_enero, orient= 'index')"
   ]
  },
  {
   "cell_type": "code",
   "execution_count": 46,
   "metadata": {},
   "outputs": [
    {
     "data": {
      "image/png": "[encoded data removed]",
      "text/plain": [
       "<Figure size 640x480 with 1 Axes>"
      ]
     },
     "metadata": {},
     "output_type": "display_data"
    }
   ],
   "source": [
    "plt.plot(precios_enero_df)\n",
    "plt.ylim(0,0.22)\n",
    "plt.xticks(rotation = 90);"
   ]
  },
  {
   "cell_type": "code",
   "execution_count": 47,
   "metadata": {},
   "outputs": [],
   "source": [
    "# Ya tengo el consumo para temperatura estabilizada.\n",
    "# Necesito obtener el consumo para la fase de calentamiento.\n",
    "# Voy a tomarlo como el consumo de la primera hora.\n",
    "# Puedo hacerlo con el día de muestra,\n",
    "# o buscar la instancia en que el delta era más grande a la hora de conectar.\n",
    "# Luego puedo evaluar € para distintas estrategias\n"
   ]
  },
  {
   "cell_type": "code",
   "execution_count": 48,
   "metadata": {},
   "outputs": [],
   "source": [
    "# Consumo primera hora día de muestra\n",
    "\n",
    "arranque_1 = caso_estudio[(caso_estudio['time'] > '2023-01-09 08:10') & (caso_estudio['time'] < '2023-01-09 09:15')]"
   ]
  },
  {
   "cell_type": "code",
   "execution_count": 49,
   "metadata": {},
   "outputs": [
    {
     "data": {
      "text/html": [
       "<div>\n",
       "<style scoped>\n",
       "    .dataframe tbody tr th:only-of-type {\n",
       "        vertical-align: middle;\n",
       "    }\n",
       "\n",
       "    .dataframe tbody tr th {\n",
       "        vertical-align: top;\n",
       "    }\n",
       "\n",
       "    .dataframe thead th {\n",
       "        text-align: right;\n",
       "    }\n",
       "</style>\n",
       "<table border=\"1\" class=\"dataframe\">\n",
       "  <thead>\n",
       "    <tr style=\"text-align: right;\">\n",
       "      <th></th>\n",
       "      <th>time</th>\n",
       "      <th>kWh.mean_value</th>\n",
       "      <th>°C.mean_value</th>\n",
       "      <th>°C.mean_value_2</th>\n",
       "      <th>€/kWh.mean_value</th>\n",
       "      <th>consumo</th>\n",
       "      <th>delta_temp</th>\n",
       "      <th>gradiente_interior</th>\n",
       "    </tr>\n",
       "  </thead>\n",
       "  <tbody>\n",
       "    <tr>\n",
       "      <th>24891</th>\n",
       "      <td>2023-01-09 08:15:00+00:00</td>\n",
       "      <td>790.841667</td>\n",
       "      <td>9.566667</td>\n",
       "      <td>17.50</td>\n",
       "      <td>0.18949</td>\n",
       "      <td>0.041667</td>\n",
       "      <td>7.933333</td>\n",
       "      <td>-0.10</td>\n",
       "    </tr>\n",
       "    <tr>\n",
       "      <th>24892</th>\n",
       "      <td>2023-01-09 08:20:00+00:00</td>\n",
       "      <td>790.967000</td>\n",
       "      <td>9.583333</td>\n",
       "      <td>18.35</td>\n",
       "      <td>0.18949</td>\n",
       "      <td>0.125333</td>\n",
       "      <td>8.766667</td>\n",
       "      <td>0.85</td>\n",
       "    </tr>\n",
       "    <tr>\n",
       "      <th>24893</th>\n",
       "      <td>2023-01-09 08:25:00+00:00</td>\n",
       "      <td>791.070000</td>\n",
       "      <td>9.600000</td>\n",
       "      <td>18.35</td>\n",
       "      <td>0.18949</td>\n",
       "      <td>0.103000</td>\n",
       "      <td>8.750000</td>\n",
       "      <td>0.00</td>\n",
       "    </tr>\n",
       "    <tr>\n",
       "      <th>24894</th>\n",
       "      <td>2023-01-09 08:30:00+00:00</td>\n",
       "      <td>791.140000</td>\n",
       "      <td>9.675000</td>\n",
       "      <td>19.10</td>\n",
       "      <td>0.18949</td>\n",
       "      <td>0.070000</td>\n",
       "      <td>9.425000</td>\n",
       "      <td>0.75</td>\n",
       "    </tr>\n",
       "    <tr>\n",
       "      <th>24895</th>\n",
       "      <td>2023-01-09 08:35:00+00:00</td>\n",
       "      <td>791.235000</td>\n",
       "      <td>9.750000</td>\n",
       "      <td>19.70</td>\n",
       "      <td>0.18949</td>\n",
       "      <td>0.095000</td>\n",
       "      <td>9.950000</td>\n",
       "      <td>0.60</td>\n",
       "    </tr>\n",
       "    <tr>\n",
       "      <th>24896</th>\n",
       "      <td>2023-01-09 08:40:00+00:00</td>\n",
       "      <td>791.308000</td>\n",
       "      <td>9.825000</td>\n",
       "      <td>19.70</td>\n",
       "      <td>0.18949</td>\n",
       "      <td>0.073000</td>\n",
       "      <td>9.875000</td>\n",
       "      <td>0.00</td>\n",
       "    </tr>\n",
       "    <tr>\n",
       "      <th>24897</th>\n",
       "      <td>2023-01-09 08:45:00+00:00</td>\n",
       "      <td>791.392222</td>\n",
       "      <td>9.900000</td>\n",
       "      <td>20.20</td>\n",
       "      <td>0.18949</td>\n",
       "      <td>0.084222</td>\n",
       "      <td>10.300000</td>\n",
       "      <td>0.50</td>\n",
       "    </tr>\n",
       "    <tr>\n",
       "      <th>24898</th>\n",
       "      <td>2023-01-09 08:50:00+00:00</td>\n",
       "      <td>791.460000</td>\n",
       "      <td>9.975000</td>\n",
       "      <td>20.20</td>\n",
       "      <td>0.18949</td>\n",
       "      <td>0.067778</td>\n",
       "      <td>10.225000</td>\n",
       "      <td>0.00</td>\n",
       "    </tr>\n",
       "    <tr>\n",
       "      <th>24899</th>\n",
       "      <td>2023-01-09 08:55:00+00:00</td>\n",
       "      <td>791.542222</td>\n",
       "      <td>10.050000</td>\n",
       "      <td>20.80</td>\n",
       "      <td>0.18949</td>\n",
       "      <td>0.082222</td>\n",
       "      <td>10.750000</td>\n",
       "      <td>0.60</td>\n",
       "    </tr>\n",
       "    <tr>\n",
       "      <th>24900</th>\n",
       "      <td>2023-01-09 09:00:00+00:00</td>\n",
       "      <td>791.610000</td>\n",
       "      <td>10.125000</td>\n",
       "      <td>20.80</td>\n",
       "      <td>0.23316</td>\n",
       "      <td>0.067778</td>\n",
       "      <td>10.675000</td>\n",
       "      <td>0.00</td>\n",
       "    </tr>\n",
       "    <tr>\n",
       "      <th>24901</th>\n",
       "      <td>2023-01-09 09:05:00+00:00</td>\n",
       "      <td>791.660000</td>\n",
       "      <td>10.200000</td>\n",
       "      <td>20.80</td>\n",
       "      <td>0.23316</td>\n",
       "      <td>0.050000</td>\n",
       "      <td>10.600000</td>\n",
       "      <td>0.00</td>\n",
       "    </tr>\n",
       "    <tr>\n",
       "      <th>24902</th>\n",
       "      <td>2023-01-09 09:10:00+00:00</td>\n",
       "      <td>791.715000</td>\n",
       "      <td>10.275000</td>\n",
       "      <td>21.10</td>\n",
       "      <td>0.23316</td>\n",
       "      <td>0.055000</td>\n",
       "      <td>10.825000</td>\n",
       "      <td>0.30</td>\n",
       "    </tr>\n",
       "  </tbody>\n",
       "</table>\n",
       "</div>"
      ],
      "text/plain": [
       "                           time  kWh.mean_value  °C.mean_value  \\\n",
       "24891 2023-01-09 08:15:00+00:00      790.841667       9.566667   \n",
       "24892 2023-01-09 08:20:00+00:00      790.967000       9.583333   \n",
       "24893 2023-01-09 08:25:00+00:00      791.070000       9.600000   \n",
       "24894 2023-01-09 08:30:00+00:00      791.140000       9.675000   \n",
       "24895 2023-01-09 08:35:00+00:00      791.235000       9.750000   \n",
       "24896 2023-01-09 08:40:00+00:00      791.308000       9.825000   \n",
       "24897 2023-01-09 08:45:00+00:00      791.392222       9.900000   \n",
       "24898 2023-01-09 08:50:00+00:00      791.460000       9.975000   \n",
       "24899 2023-01-09 08:55:00+00:00      791.542222      10.050000   \n",
       "24900 2023-01-09 09:00:00+00:00      791.610000      10.125000   \n",
       "24901 2023-01-09 09:05:00+00:00      791.660000      10.200000   \n",
       "24902 2023-01-09 09:10:00+00:00      791.715000      10.275000   \n",
       "\n",
       "       °C.mean_value_2  €/kWh.mean_value   consumo  delta_temp  \\\n",
       "24891            17.50           0.18949  0.041667    7.933333   \n",
       "24892            18.35           0.18949  0.125333    8.766667   \n",
       "24893            18.35           0.18949  0.103000    8.750000   \n",
       "24894            19.10           0.18949  0.070000    9.425000   \n",
       "24895            19.70           0.18949  0.095000    9.950000   \n",
       "24896            19.70           0.18949  0.073000    9.875000   \n",
       "24897            20.20           0.18949  0.084222   10.300000   \n",
       "24898            20.20           0.18949  0.067778   10.225000   \n",
       "24899            20.80           0.18949  0.082222   10.750000   \n",
       "24900            20.80           0.23316  0.067778   10.675000   \n",
       "24901            20.80           0.23316  0.050000   10.600000   \n",
       "24902            21.10           0.23316  0.055000   10.825000   \n",
       "\n",
       "       gradiente_interior  \n",
       "24891               -0.10  \n",
       "24892                0.85  \n",
       "24893                0.00  \n",
       "24894                0.75  \n",
       "24895                0.60  \n",
       "24896                0.00  \n",
       "24897                0.50  \n",
       "24898                0.00  \n",
       "24899                0.60  \n",
       "24900                0.00  \n",
       "24901                0.00  \n",
       "24902                0.30  "
      ]
     },
     "execution_count": 49,
     "metadata": {},
     "output_type": "execute_result"
    }
   ],
   "source": [
    "arranque_1"
   ]
  },
  {
   "cell_type": "code",
   "execution_count": 50,
   "metadata": {},
   "outputs": [
    {
     "data": {
      "text/plain": [
       "0.9150000000000773"
      ]
     },
     "execution_count": 50,
     "metadata": {},
     "output_type": "execute_result"
    }
   ],
   "source": [
    "# consumo del arranque\n",
    "arranque_1['consumo'].sum()"
   ]
  },
  {
   "cell_type": "markdown",
   "metadata": {},
   "source": [
    "Como se observa, el arranque equivale a 3 horas de consumo con la temp estabilizada"
   ]
  },
  {
   "cell_type": "code",
   "execution_count": 51,
   "metadata": {},
   "outputs": [
    {
     "data": {
      "text/plain": [
       "3.6000000000000014"
      ]
     },
     "execution_count": 51,
     "metadata": {},
     "output_type": "execute_result"
    }
   ],
   "source": [
    "# incremento de temp en este arranque\n",
    "arranque_1['°C.mean_value_2'].iloc[-1] - arranque_1['°C.mean_value_2'].iloc[0]"
   ]
  },
  {
   "cell_type": "code",
   "execution_count": 52,
   "metadata": {},
   "outputs": [
    {
     "data": {
      "text/html": [
       "<div>\n",
       "<style scoped>\n",
       "    .dataframe tbody tr th:only-of-type {\n",
       "        vertical-align: middle;\n",
       "    }\n",
       "\n",
       "    .dataframe tbody tr th {\n",
       "        vertical-align: top;\n",
       "    }\n",
       "\n",
       "    .dataframe thead th {\n",
       "        text-align: right;\n",
       "    }\n",
       "</style>\n",
       "<table border=\"1\" class=\"dataframe\">\n",
       "  <thead>\n",
       "    <tr style=\"text-align: right;\">\n",
       "      <th></th>\n",
       "      <th>time</th>\n",
       "      <th>°C.mean_value_2</th>\n",
       "    </tr>\n",
       "  </thead>\n",
       "  <tbody>\n",
       "    <tr>\n",
       "      <th>24342</th>\n",
       "      <td>2023-01-07 10:30:00+00:00</td>\n",
       "      <td>16.1</td>\n",
       "    </tr>\n",
       "    <tr>\n",
       "      <th>24343</th>\n",
       "      <td>2023-01-07 10:35:00+00:00</td>\n",
       "      <td>16.1</td>\n",
       "    </tr>\n",
       "    <tr>\n",
       "      <th>24344</th>\n",
       "      <td>2023-01-07 10:40:00+00:00</td>\n",
       "      <td>16.1</td>\n",
       "    </tr>\n",
       "    <tr>\n",
       "      <th>24420</th>\n",
       "      <td>2023-01-07 17:00:00+00:00</td>\n",
       "      <td>16.1</td>\n",
       "    </tr>\n",
       "    <tr>\n",
       "      <th>24421</th>\n",
       "      <td>2023-01-07 17:05:00+00:00</td>\n",
       "      <td>16.1</td>\n",
       "    </tr>\n",
       "    <tr>\n",
       "      <th>24422</th>\n",
       "      <td>2023-01-07 17:10:00+00:00</td>\n",
       "      <td>16.1</td>\n",
       "    </tr>\n",
       "  </tbody>\n",
       "</table>\n",
       "</div>"
      ],
      "text/plain": [
       "                           time  °C.mean_value_2\n",
       "24342 2023-01-07 10:30:00+00:00             16.1\n",
       "24343 2023-01-07 10:35:00+00:00             16.1\n",
       "24344 2023-01-07 10:40:00+00:00             16.1\n",
       "24420 2023-01-07 17:00:00+00:00             16.1\n",
       "24421 2023-01-07 17:05:00+00:00             16.1\n",
       "24422 2023-01-07 17:10:00+00:00             16.1"
      ]
     },
     "execution_count": 52,
     "metadata": {},
     "output_type": "execute_result"
    }
   ],
   "source": [
    "# Temperatura interior más baja:\n",
    "enero[['time', '°C.mean_value_2']][enero['°C.mean_value_2'] == enero['°C.mean_value_2'].min()]"
   ]
  },
  {
   "cell_type": "code",
   "execution_count": 53,
   "metadata": {},
   "outputs": [
    {
     "data": {
      "text/plain": [
       "16.1"
      ]
     },
     "execution_count": 53,
     "metadata": {},
     "output_type": "execute_result"
    }
   ],
   "source": [
    "# Temperatura interior más baja en un arranque\n",
    "enero['°C.mean_value_2'][enero['consumo'] > 0].min()"
   ]
  },
  {
   "cell_type": "code",
   "execution_count": 54,
   "metadata": {},
   "outputs": [
    {
     "data": {
      "image/png": "[encoded data removed]",
      "text/plain": [
       "<Figure size 640x480 with 1 Axes>"
      ]
     },
     "metadata": {},
     "output_type": "display_data"
    }
   ],
   "source": [
    "dia_07 = enero.copy()[enero['time'].dt.day == 7]\n",
    "\n",
    "plt.plot(dia_07['time'], dia_07['delta_temp'], color = 'red')\n",
    "plt.plot(dia_07['time'], dia_07['°C.mean_value_2'], color = 'blue')\n",
    "plt.plot(dia_07['time'], dia_07['consumo']*100)\n",
    "plt.xticks(rotation = 90);"
   ]
  },
  {
   "cell_type": "code",
   "execution_count": 55,
   "metadata": {},
   "outputs": [
    {
     "data": {
      "text/plain": [
       "2.564999999999941"
      ]
     },
     "execution_count": 55,
     "metadata": {},
     "output_type": "execute_result"
    }
   ],
   "source": [
    "# El día 7 contiene el arranqe más desfavorable (desde una temperatura más baja)\n",
    "# Vamos a ver cuánto se consumió\n",
    "dia_07['consumo'].sum()"
   ]
  },
  {
   "cell_type": "code",
   "execution_count": 56,
   "metadata": {},
   "outputs": [
    {
     "data": {
      "text/plain": [
       "5.799999999999997"
      ]
     },
     "execution_count": 56,
     "metadata": {},
     "output_type": "execute_result"
    }
   ],
   "source": [
    "# Y cuánto subió la temperatura\n",
    "dia_07['°C.mean_value_2'].max() - dia_07['°C.mean_value_2'].min()"
   ]
  },
  {
   "cell_type": "code",
   "execution_count": 57,
   "metadata": {},
   "outputs": [
    {
     "data": {
      "text/plain": [
       "0.39780821917807546"
      ]
     },
     "execution_count": 57,
     "metadata": {},
     "output_type": "execute_result"
    }
   ],
   "source": [
    "consumo_estable['consumo'][consumo_estable['time'] >= '2023-01-10 00:00'].mean()*12"
   ]
  },
  {
   "cell_type": "code",
   "execution_count": 58,
   "metadata": {},
   "outputs": [
    {
     "data": {
      "text/html": [
       "<div>\n",
       "<style scoped>\n",
       "    .dataframe tbody tr th:only-of-type {\n",
       "        vertical-align: middle;\n",
       "    }\n",
       "\n",
       "    .dataframe tbody tr th {\n",
       "        vertical-align: top;\n",
       "    }\n",
       "\n",
       "    .dataframe thead th {\n",
       "        text-align: right;\n",
       "    }\n",
       "</style>\n",
       "<table border=\"1\" class=\"dataframe\">\n",
       "  <thead>\n",
       "    <tr style=\"text-align: right;\">\n",
       "      <th></th>\n",
       "      <th>0</th>\n",
       "    </tr>\n",
       "  </thead>\n",
       "  <tbody>\n",
       "    <tr>\n",
       "      <th>0</th>\n",
       "      <td>0.091167</td>\n",
       "    </tr>\n",
       "    <tr>\n",
       "      <th>1</th>\n",
       "      <td>0.088707</td>\n",
       "    </tr>\n",
       "    <tr>\n",
       "      <th>2</th>\n",
       "      <td>0.088051</td>\n",
       "    </tr>\n",
       "    <tr>\n",
       "      <th>3</th>\n",
       "      <td>0.087010</td>\n",
       "    </tr>\n",
       "    <tr>\n",
       "      <th>4</th>\n",
       "      <td>0.090051</td>\n",
       "    </tr>\n",
       "    <tr>\n",
       "      <th>5</th>\n",
       "      <td>0.099598</td>\n",
       "    </tr>\n",
       "    <tr>\n",
       "      <th>6</th>\n",
       "      <td>0.111744</td>\n",
       "    </tr>\n",
       "    <tr>\n",
       "      <th>7</th>\n",
       "      <td>0.145871</td>\n",
       "    </tr>\n",
       "    <tr>\n",
       "      <th>8</th>\n",
       "      <td>0.139798</td>\n",
       "    </tr>\n",
       "    <tr>\n",
       "      <th>9</th>\n",
       "      <td>0.155026</td>\n",
       "    </tr>\n",
       "    <tr>\n",
       "      <th>10</th>\n",
       "      <td>0.146176</td>\n",
       "    </tr>\n",
       "    <tr>\n",
       "      <th>11</th>\n",
       "      <td>0.142514</td>\n",
       "    </tr>\n",
       "    <tr>\n",
       "      <th>12</th>\n",
       "      <td>0.139730</td>\n",
       "    </tr>\n",
       "    <tr>\n",
       "      <th>13</th>\n",
       "      <td>0.104970</td>\n",
       "    </tr>\n",
       "    <tr>\n",
       "      <th>14</th>\n",
       "      <td>0.103805</td>\n",
       "    </tr>\n",
       "    <tr>\n",
       "      <th>15</th>\n",
       "      <td>0.114138</td>\n",
       "    </tr>\n",
       "    <tr>\n",
       "      <th>16</th>\n",
       "      <td>0.134229</td>\n",
       "    </tr>\n",
       "    <tr>\n",
       "      <th>17</th>\n",
       "      <td>0.189002</td>\n",
       "    </tr>\n",
       "    <tr>\n",
       "      <th>18</th>\n",
       "      <td>0.214663</td>\n",
       "    </tr>\n",
       "    <tr>\n",
       "      <th>19</th>\n",
       "      <td>0.213943</td>\n",
       "    </tr>\n",
       "    <tr>\n",
       "      <th>20</th>\n",
       "      <td>0.196949</td>\n",
       "    </tr>\n",
       "    <tr>\n",
       "      <th>21</th>\n",
       "      <td>0.139168</td>\n",
       "    </tr>\n",
       "    <tr>\n",
       "      <th>22</th>\n",
       "      <td>0.121919</td>\n",
       "    </tr>\n",
       "    <tr>\n",
       "      <th>23</th>\n",
       "      <td>0.104877</td>\n",
       "    </tr>\n",
       "  </tbody>\n",
       "</table>\n",
       "</div>"
      ],
      "text/plain": [
       "           0\n",
       "0   0.091167\n",
       "1   0.088707\n",
       "2   0.088051\n",
       "3   0.087010\n",
       "4   0.090051\n",
       "5   0.099598\n",
       "6   0.111744\n",
       "7   0.145871\n",
       "8   0.139798\n",
       "9   0.155026\n",
       "10  0.146176\n",
       "11  0.142514\n",
       "12  0.139730\n",
       "13  0.104970\n",
       "14  0.103805\n",
       "15  0.114138\n",
       "16  0.134229\n",
       "17  0.189002\n",
       "18  0.214663\n",
       "19  0.213943\n",
       "20  0.196949\n",
       "21  0.139168\n",
       "22  0.121919\n",
       "23  0.104877"
      ]
     },
     "execution_count": 58,
     "metadata": {},
     "output_type": "execute_result"
    }
   ],
   "source": [
    "precios_enero_df"
   ]
  },
  {
   "cell_type": "markdown",
   "metadata": {},
   "source": [
    "Resultados:\n",
    " - Un arranque típico dura una hora, y en él se consume 0.91 kWh.\n",
    " - Un arranque desfavorable dura entre 2 y 3 horas, y consume 2.5 kWh.\n",
    " - Una hora de funcionamiento estable consume 0.3 kWh si delta < 12.\n",
    " - Una hora de funcionamiento estable consume 0.4 kWh si delta > 12.\n",
    " - La velocidad de enfriamiento más desfavorable es de -2 ºC/h\n",
    " - Las horas más caras son las 18, 19 y 20. "
   ]
  },
  {
   "cell_type": "code",
   "execution_count": 59,
   "metadata": {},
   "outputs": [
    {
     "data": {
      "text/plain": [
       "-1.3"
      ]
     },
     "execution_count": 59,
     "metadata": {},
     "output_type": "execute_result"
    }
   ],
   "source": [
    "todo['°C.mean_value'].min()"
   ]
  },
  {
   "cell_type": "code",
   "execution_count": 60,
   "metadata": {},
   "outputs": [
    {
     "data": {
      "text/plain": [
       "43.5"
      ]
     },
     "execution_count": 60,
     "metadata": {},
     "output_type": "execute_result"
    }
   ],
   "source": [
    "todo['°C.mean_value'].max()"
   ]
  },
  {
   "cell_type": "code",
   "execution_count": 61,
   "metadata": {},
   "outputs": [
    {
     "data": {
      "text/plain": [
       "16.2055962517243"
      ]
     },
     "execution_count": 61,
     "metadata": {},
     "output_type": "execute_result"
    }
   ],
   "source": [
    "todo['°C.mean_value'].mean()"
   ]
  },
  {
   "cell_type": "code",
   "execution_count": 62,
   "metadata": {},
   "outputs": [
    {
     "data": {
      "text/plain": [
       "16.1"
      ]
     },
     "execution_count": 62,
     "metadata": {},
     "output_type": "execute_result"
    }
   ],
   "source": [
    "todo['°C.mean_value_2'].min()"
   ]
  },
  {
   "cell_type": "code",
   "execution_count": 63,
   "metadata": {},
   "outputs": [
    {
     "data": {
      "text/plain": [
       "28.7"
      ]
     },
     "execution_count": 63,
     "metadata": {},
     "output_type": "execute_result"
    }
   ],
   "source": [
    "todo['°C.mean_value_2'].max()"
   ]
  },
  {
   "cell_type": "code",
   "execution_count": 64,
   "metadata": {},
   "outputs": [
    {
     "data": {
      "text/plain": [
       "22.21642733701167"
      ]
     },
     "execution_count": 64,
     "metadata": {},
     "output_type": "execute_result"
    }
   ],
   "source": [
    "todo['°C.mean_value_2'].mean()"
   ]
  },
  {
   "cell_type": "code",
   "execution_count": 65,
   "metadata": {},
   "outputs": [
    {
     "name": "stdout",
     "output_type": "stream",
     "text": [
      "Escenario 1:  0.5519598387096774 €\n"
     ]
    }
   ],
   "source": [
    "# Ahora hay que plantear escenarios para ver cómo salen en €\n",
    "\n",
    "# Escenario 1\n",
    "es_1 = 2 * precios_enero[16] + 1.5 * precios_enero[17]\n",
    "print('Escenario 1: ', es_1, '€')"
   ]
  },
  {
   "cell_type": "code",
   "execution_count": 66,
   "metadata": {},
   "outputs": [
    {
     "name": "stdout",
     "output_type": "stream",
     "text": [
      "Escenario 1:  0.4594816451612903 €\n"
     ]
    }
   ],
   "source": [
    "# Escenario 2\n",
    "es_2 = 1 * precios_enero[16] + 1.5 * precios_enero[17] + 0.3 * precios_enero[21]\n",
    "print('Escenario 1: ', es_2, '€')"
   ]
  },
  {
   "cell_type": "code",
   "execution_count": 67,
   "metadata": {},
   "outputs": [
    {
     "name": "stdout",
     "output_type": "stream",
     "text": [
      "Escenario 1:  0.3796814193548387 €\n"
     ]
    }
   ],
   "source": [
    "# Escenario 1\n",
    "es_3 = 1 * precios_enero[18] + 0.3 * precios_enero[19] + 0.3 * precios_enero[20] + 0.3 * precios_enero[21]\n",
    "print('Escenario 1: ', es_3, '€')"
   ]
  },
  {
   "cell_type": "markdown",
   "metadata": {},
   "source": []
  },
  {
   "cell_type": "code",
   "execution_count": 72,
   "metadata": {},
   "outputs": [
    {
     "ename": "ValueError",
     "evalue": "Cannot set a frame with no defined index and a value that cannot be converted to a Series",
     "output_type": "error",
     "traceback": [
      "\u001b[0;31m---------------------------------------------------------------------------\u001b[0m",
      "\u001b[0;31mValueError\u001b[0m                                Traceback (most recent call last)",
      "File \u001b[0;32m/usr/lib/python3/dist-packages/pandas/core/frame.py:4243\u001b[0m, in \u001b[0;36mDataFrame._ensure_valid_index\u001b[0;34m(self, value)\u001b[0m\n\u001b[1;32m   4242\u001b[0m \u001b[39mtry\u001b[39;00m:\n\u001b[0;32m-> 4243\u001b[0m     value \u001b[39m=\u001b[39m Series(value)\n\u001b[1;32m   4244\u001b[0m \u001b[39mexcept\u001b[39;00m (\u001b[39mValueError\u001b[39;00m, \u001b[39mNotImplementedError\u001b[39;00m, \u001b[39mTypeError\u001b[39;00m) \u001b[39mas\u001b[39;00m err:\n",
      "File \u001b[0;32m/usr/lib/python3/dist-packages/pandas/core/series.py:470\u001b[0m, in \u001b[0;36mSeries.__init__\u001b[0;34m(self, data, index, dtype, name, copy, fastpath)\u001b[0m\n\u001b[1;32m    469\u001b[0m \u001b[39melse\u001b[39;00m:\n\u001b[0;32m--> 470\u001b[0m     data \u001b[39m=\u001b[39m sanitize_array(data, index, dtype, copy)\n\u001b[1;32m    472\u001b[0m     manager \u001b[39m=\u001b[39m get_option(\u001b[39m\"\u001b[39m\u001b[39mmode.data_manager\u001b[39m\u001b[39m\"\u001b[39m)\n",
      "File \u001b[0;32m/usr/lib/python3/dist-packages/pandas/core/construction.py:647\u001b[0m, in \u001b[0;36msanitize_array\u001b[0;34m(data, index, dtype, copy, raise_cast_failure, allow_2d)\u001b[0m\n\u001b[1;32m    645\u001b[0m             subarr \u001b[39m=\u001b[39m maybe_infer_to_datetimelike(subarr)\n\u001b[0;32m--> 647\u001b[0m subarr \u001b[39m=\u001b[39m _sanitize_ndim(subarr, data, dtype, index, allow_2d\u001b[39m=\u001b[39;49mallow_2d)\n\u001b[1;32m    649\u001b[0m \u001b[39mif\u001b[39;00m \u001b[39misinstance\u001b[39m(subarr, np\u001b[39m.\u001b[39mndarray):\n\u001b[1;32m    650\u001b[0m     \u001b[39m# at this point we should have dtype be None or subarr.dtype == dtype\u001b[39;00m\n",
      "File \u001b[0;32m/usr/lib/python3/dist-packages/pandas/core/construction.py:698\u001b[0m, in \u001b[0;36m_sanitize_ndim\u001b[0;34m(result, data, dtype, index, allow_2d)\u001b[0m\n\u001b[1;32m    697\u001b[0m         \u001b[39mreturn\u001b[39;00m result\n\u001b[0;32m--> 698\u001b[0m     \u001b[39mraise\u001b[39;00m \u001b[39mValueError\u001b[39;00m(\u001b[39m\"\u001b[39m\u001b[39mData must be 1-dimensional\u001b[39m\u001b[39m\"\u001b[39m)\n\u001b[1;32m    699\u001b[0m \u001b[39mif\u001b[39;00m is_object_dtype(dtype) \u001b[39mand\u001b[39;00m \u001b[39misinstance\u001b[39m(dtype, ExtensionDtype):\n\u001b[1;32m    700\u001b[0m     \u001b[39m# i.e. PandasDtype(\"O\")\u001b[39;00m\n",
      "\u001b[0;31mValueError\u001b[0m: Data must be 1-dimensional",
      "\nThe above exception was the direct cause of the following exception:\n",
      "\u001b[0;31mValueError\u001b[0m                                Traceback (most recent call last)",
      "\u001b[1;32m/home/david/NextCloud/david/Documents/Bootcamp/David/DS_TheBridgeBBK_SBIL2023/2-Data_Analysis/Entregas/EDA/EDA_david_notebook .ipynb Cell 85\u001b[0m line \u001b[0;36m5\n\u001b[1;32m      <a href='vscode-notebook-cell:/home/david/NextCloud/david/Documents/Bootcamp/David/DS_TheBridgeBBK_SBIL2023/2-Data_Analysis/Entregas/EDA/EDA_david_notebook%20.ipynb#Y146sZmlsZQ%3D%3D?line=1'>2</a>\u001b[0m days \u001b[39m=\u001b[39m pd\u001b[39m.\u001b[39mDataFrame()\n\u001b[1;32m      <a href='vscode-notebook-cell:/home/david/NextCloud/david/Documents/Bootcamp/David/DS_TheBridgeBBK_SBIL2023/2-Data_Analysis/Entregas/EDA/EDA_david_notebook%20.ipynb#Y146sZmlsZQ%3D%3D?line=3'>4</a>\u001b[0m \u001b[39mfor\u001b[39;00m name, group \u001b[39min\u001b[39;00m groups:\n\u001b[0;32m----> <a href='vscode-notebook-cell:/home/david/NextCloud/david/Documents/Bootcamp/David/DS_TheBridgeBBK_SBIL2023/2-Data_Analysis/Entregas/EDA/EDA_david_notebook%20.ipynb#Y146sZmlsZQ%3D%3D?line=4'>5</a>\u001b[0m     days[name\u001b[39m.\u001b[39;49mday] \u001b[39m=\u001b[39m group\u001b[39m.\u001b[39mvalues\n\u001b[1;32m      <a href='vscode-notebook-cell:/home/david/NextCloud/david/Documents/Bootcamp/David/DS_TheBridgeBBK_SBIL2023/2-Data_Analysis/Entregas/EDA/EDA_david_notebook%20.ipynb#Y146sZmlsZQ%3D%3D?line=6'>7</a>\u001b[0m days\u001b[39m.\u001b[39mplot(subplots\u001b[39m=\u001b[39m\u001b[39mTrue\u001b[39;00m, legend\u001b[39m=\u001b[39m\u001b[39mFalse\u001b[39;00m)\n\u001b[1;32m      <a href='vscode-notebook-cell:/home/david/NextCloud/david/Documents/Bootcamp/David/DS_TheBridgeBBK_SBIL2023/2-Data_Analysis/Entregas/EDA/EDA_david_notebook%20.ipynb#Y146sZmlsZQ%3D%3D?line=7'>8</a>\u001b[0m plt\u001b[39m.\u001b[39mshow()\n",
      "File \u001b[0;32m/usr/lib/python3/dist-packages/pandas/core/frame.py:3980\u001b[0m, in \u001b[0;36mDataFrame.__setitem__\u001b[0;34m(self, key, value)\u001b[0m\n\u001b[1;32m   3977\u001b[0m     \u001b[39mself\u001b[39m\u001b[39m.\u001b[39m_setitem_array([key], value)\n\u001b[1;32m   3978\u001b[0m \u001b[39melse\u001b[39;00m:\n\u001b[1;32m   3979\u001b[0m     \u001b[39m# set column\u001b[39;00m\n\u001b[0;32m-> 3980\u001b[0m     \u001b[39mself\u001b[39;49m\u001b[39m.\u001b[39;49m_set_item(key, value)\n",
      "File \u001b[0;32m/usr/lib/python3/dist-packages/pandas/core/frame.py:4174\u001b[0m, in \u001b[0;36mDataFrame._set_item\u001b[0;34m(self, key, value)\u001b[0m\n\u001b[1;32m   4164\u001b[0m \u001b[39mdef\u001b[39;00m \u001b[39m_set_item\u001b[39m(\u001b[39mself\u001b[39m, key, value) \u001b[39m-\u001b[39m\u001b[39m>\u001b[39m \u001b[39mNone\u001b[39;00m:\n\u001b[1;32m   4165\u001b[0m \u001b[39m    \u001b[39m\u001b[39m\"\"\"\u001b[39;00m\n\u001b[1;32m   4166\u001b[0m \u001b[39m    Add series to DataFrame in specified column.\u001b[39;00m\n\u001b[1;32m   4167\u001b[0m \n\u001b[0;32m   (...)\u001b[0m\n\u001b[1;32m   4172\u001b[0m \u001b[39m    ensure homogeneity.\u001b[39;00m\n\u001b[1;32m   4173\u001b[0m \u001b[39m    \"\"\"\u001b[39;00m\n\u001b[0;32m-> 4174\u001b[0m     value \u001b[39m=\u001b[39m \u001b[39mself\u001b[39;49m\u001b[39m.\u001b[39;49m_sanitize_column(value)\n\u001b[1;32m   4176\u001b[0m     \u001b[39mif\u001b[39;00m (\n\u001b[1;32m   4177\u001b[0m         key \u001b[39min\u001b[39;00m \u001b[39mself\u001b[39m\u001b[39m.\u001b[39mcolumns\n\u001b[1;32m   4178\u001b[0m         \u001b[39mand\u001b[39;00m value\u001b[39m.\u001b[39mndim \u001b[39m==\u001b[39m \u001b[39m1\u001b[39m\n\u001b[1;32m   4179\u001b[0m         \u001b[39mand\u001b[39;00m \u001b[39mnot\u001b[39;00m is_extension_array_dtype(value)\n\u001b[1;32m   4180\u001b[0m     ):\n\u001b[1;32m   4181\u001b[0m         \u001b[39m# broadcast across multiple columns if necessary\u001b[39;00m\n\u001b[1;32m   4182\u001b[0m         \u001b[39mif\u001b[39;00m \u001b[39mnot\u001b[39;00m \u001b[39mself\u001b[39m\u001b[39m.\u001b[39mcolumns\u001b[39m.\u001b[39mis_unique \u001b[39mor\u001b[39;00m \u001b[39misinstance\u001b[39m(\u001b[39mself\u001b[39m\u001b[39m.\u001b[39mcolumns, MultiIndex):\n",
      "File \u001b[0;32m/usr/lib/python3/dist-packages/pandas/core/frame.py:4905\u001b[0m, in \u001b[0;36mDataFrame._sanitize_column\u001b[0;34m(self, value)\u001b[0m\n\u001b[1;32m   4892\u001b[0m \u001b[39mdef\u001b[39;00m \u001b[39m_sanitize_column\u001b[39m(\u001b[39mself\u001b[39m, value) \u001b[39m-\u001b[39m\u001b[39m>\u001b[39m ArrayLike:\n\u001b[1;32m   4893\u001b[0m \u001b[39m    \u001b[39m\u001b[39m\"\"\"\u001b[39;00m\n\u001b[1;32m   4894\u001b[0m \u001b[39m    Ensures new columns (which go into the BlockManager as new blocks) are\u001b[39;00m\n\u001b[1;32m   4895\u001b[0m \u001b[39m    always copied and converted into an array.\u001b[39;00m\n\u001b[0;32m   (...)\u001b[0m\n\u001b[1;32m   4903\u001b[0m \u001b[39m    numpy.ndarray or ExtensionArray\u001b[39;00m\n\u001b[1;32m   4904\u001b[0m \u001b[39m    \"\"\"\u001b[39;00m\n\u001b[0;32m-> 4905\u001b[0m     \u001b[39mself\u001b[39;49m\u001b[39m.\u001b[39;49m_ensure_valid_index(value)\n\u001b[1;32m   4907\u001b[0m     \u001b[39m# We can get there through isetitem with a DataFrame\u001b[39;00m\n\u001b[1;32m   4908\u001b[0m     \u001b[39m# or through loc single_block_path\u001b[39;00m\n\u001b[1;32m   4909\u001b[0m     \u001b[39mif\u001b[39;00m \u001b[39misinstance\u001b[39m(value, DataFrame):\n",
      "File \u001b[0;32m/usr/lib/python3/dist-packages/pandas/core/frame.py:4245\u001b[0m, in \u001b[0;36mDataFrame._ensure_valid_index\u001b[0;34m(self, value)\u001b[0m\n\u001b[1;32m   4243\u001b[0m         value \u001b[39m=\u001b[39m Series(value)\n\u001b[1;32m   4244\u001b[0m     \u001b[39mexcept\u001b[39;00m (\u001b[39mValueError\u001b[39;00m, \u001b[39mNotImplementedError\u001b[39;00m, \u001b[39mTypeError\u001b[39;00m) \u001b[39mas\u001b[39;00m err:\n\u001b[0;32m-> 4245\u001b[0m         \u001b[39mraise\u001b[39;00m \u001b[39mValueError\u001b[39;00m(\n\u001b[1;32m   4246\u001b[0m             \u001b[39m\"\u001b[39m\u001b[39mCannot set a frame with no defined index \u001b[39m\u001b[39m\"\u001b[39m\n\u001b[1;32m   4247\u001b[0m             \u001b[39m\"\u001b[39m\u001b[39mand a value that cannot be converted to a Series\u001b[39m\u001b[39m\"\u001b[39m\n\u001b[1;32m   4248\u001b[0m         ) \u001b[39mfrom\u001b[39;00m \u001b[39merr\u001b[39;00m\n\u001b[1;32m   4250\u001b[0m \u001b[39m# GH31368 preserve name of index\u001b[39;00m\n\u001b[1;32m   4251\u001b[0m index_copy \u001b[39m=\u001b[39m value\u001b[39m.\u001b[39mindex\u001b[39m.\u001b[39mcopy()\n",
      "\u001b[0;31mValueError\u001b[0m: Cannot set a frame with no defined index and a value that cannot be converted to a Series"
     ]
    }
   ],
   "source": [
    "groups = enero.groupby(pd.Grouper(key= 'time', freq='1D'))\n",
    "days = pd.DataFrame()\n",
    "\n",
    "for name, group in groups:\n",
    "    days[name.day] = group.values\n",
    "\n",
    "days.plot(subplots=True, legend=False)\n",
    "plt.show()"
   ]
  },
  {
   "cell_type": "code",
   "execution_count": null,
   "metadata": {},
   "outputs": [],
   "source": []
  }
 ],
 "metadata": {
  "kernelspec": {
   "display_name": "Python 3",
   "language": "python",
   "name": "python3"
  },
  "language_info": {
   "codemirror_mode": {
    "name": "ipython",
    "version": 3
   },
   "file_extension": ".py",
   "mimetype": "text/x-python",
   "name": "python",
   "nbconvert_exporter": "python",
   "pygments_lexer": "ipython3",
   "version": "3.11.4"
  }
 },
 "nbformat": 4,
 "nbformat_minor": 2
}
